{
 "cells": [
  {
   "cell_type": "code",
   "execution_count": 1,
   "id": "7d4814b6-58fd-4517-8537-e10eefd9fe6e",
   "metadata": {},
   "outputs": [
    {
     "name": "stdout",
     "output_type": "stream",
     "text": [
      "2.10.0\n"
     ]
    }
   ],
   "source": [
    "import tensorflow as tf\n",
    "import os, re\n",
    "import random, math\n",
    "import numpy as np\n",
    "import matplotlib.pyplot as plt\n",
    "import warnings \n",
    "warnings.filterwarnings(action='ignore')\n",
    "print(tf.__version__)"
   ]
  },
  {
   "cell_type": "code",
   "execution_count": 2,
   "id": "839e6e88-6b9c-4181-8103-570fafa7319f",
   "metadata": {},
   "outputs": [
    {
     "name": "stdout",
     "output_type": "stream",
     "text": [
      "C:\\Users\\박해극\\Aiffel\\AIFFEL_Quest\\mainquest4\\archive (2)\n"
     ]
    }
   ],
   "source": [
    "# 데이터 로드할 때 빠르게 로드할 수 있도록하는 설정 변수\n",
    "AUTOTUNE = tf.data.experimental.AUTOTUNE\n",
    "# X-RAY 이미지 사이즈 변수\n",
    "IMAGE_SIZE = [180, 180]\n",
    "\n",
    "# 데이터 경로 변수\n",
    "ROOT_PATH = \"C:\\\\Users\\\\박해극\\\\Aiffel\\\\AIFFEL_Quest\\\\mainquest4\\\\archive (2)\"\n",
    "TRAIN_PATH = ROOT_PATH + '/chest_xray/train/*/*' # *은 모든 디렉토리와 파일을 의미합니다.\n",
    "VAL_PATH = ROOT_PATH + '/chest_xray/val/*/*'\n",
    "TEST_PATH = ROOT_PATH + '/chest_xray/test/*/*'\n",
    "\n",
    "# 프로젝트를 진행할 때 아래 두 변수를 변경해보세요\n",
    "BATCH_SIZE = 16\n",
    "EPOCHS = 10\n",
    "\n",
    "print(ROOT_PATH)"
   ]
  },
  {
   "cell_type": "code",
   "execution_count": 3,
   "id": "6c6d2162-183d-4664-89e1-236a51669504",
   "metadata": {},
   "outputs": [
    {
     "name": "stdout",
     "output_type": "stream",
     "text": [
      "5216\n",
      "624\n",
      "16\n"
     ]
    }
   ],
   "source": [
    "# 데이터 가져오기\n",
    "train_filenames = tf.io.gfile.glob(TRAIN_PATH)\n",
    "test_filenames = tf.io.gfile.glob(TEST_PATH)\n",
    "val_filenames = tf.io.gfile.glob(VAL_PATH)\n",
    "\n",
    "print(len(train_filenames))\n",
    "print(len(test_filenames))\n",
    "print(len(val_filenames))"
   ]
  },
  {
   "cell_type": "code",
   "execution_count": 4,
   "id": "10abadfd-cba2-4b7d-8033-a8302fca10f3",
   "metadata": {},
   "outputs": [
    {
     "name": "stdout",
     "output_type": "stream",
     "text": [
      "4185\n",
      "1047\n"
     ]
    }
   ],
   "source": [
    "# train 데이터와 validation 데이터를 모두 filenames에 담습니다\n",
    "filenames = tf.io.gfile.glob(TRAIN_PATH)\n",
    "filenames.extend(tf.io.gfile.glob(VAL_PATH))\n",
    "\n",
    "# 모아진 filenames를 8:2로 나눕니다\n",
    "train_size = math.floor(len(filenames)*0.8)\n",
    "random.seed(8)\n",
    "random.shuffle(filenames)\n",
    "train_filenames = filenames[:train_size]\n",
    "val_filenames = filenames[train_size:]\n",
    "\n",
    "print(len(train_filenames))\n",
    "print(len(val_filenames))"
   ]
  },
  {
   "cell_type": "code",
   "execution_count": 5,
   "id": "9040c8e3-490e-433b-be71-f2e72b69d8b7",
   "metadata": {},
   "outputs": [
    {
     "name": "stdout",
     "output_type": "stream",
     "text": [
      "Normal image path\n",
      "C:\\Users\\박해극\\Aiffel\\AIFFEL_Quest\\mainquest4\\archive (2)\\chest_xray\\train\\NORMAL\\NORMAL2-IM-0707-0001.jpeg\n",
      "Pneumonia image path\n",
      "C:\\Users\\박해극\\Aiffel\\AIFFEL_Quest\\mainquest4\\archive (2)\\chest_xray\\train\\PNEUMONIA\\person610_bacteria_2475.jpeg\n"
     ]
    }
   ],
   "source": [
    "print(f'Normal image path\\n{filenames[0]}')\n",
    "print(f'Pneumonia image path\\n{filenames[2000]}')"
   ]
  },
  {
   "cell_type": "code",
   "execution_count": 6,
   "id": "b72c6af1-df69-4b48-bcaa-d71f0914eccb",
   "metadata": {},
   "outputs": [
    {
     "name": "stdout",
     "output_type": "stream",
     "text": [
      "Normal images count in training set: 1072\n",
      "Pneumonia images count in training set: 3113\n"
     ]
    }
   ],
   "source": [
    "COUNT_NORMAL = len([filename for filename in train_filenames if \"NORMAL\" in filename])\n",
    "print(f\"Normal images count in training set: {COUNT_NORMAL}\")\n",
    "\n",
    "\n",
    "COUNT_PNEUMONIA = len([filename for filename in train_filenames if \"PNEUMONIA\" in filename])\n",
    "print(f\"Pneumonia images count in training set: {COUNT_PNEUMONIA}\")"
   ]
  },
  {
   "cell_type": "code",
   "execution_count": 7,
   "id": "b815a140-0f83-46f1-9d76-2c2565a81adc",
   "metadata": {},
   "outputs": [],
   "source": [
    "train_list_ds = tf.data.Dataset.from_tensor_slices(train_filenames)\n",
    "val_list_ds = tf.data.Dataset.from_tensor_slices(val_filenames)"
   ]
  },
  {
   "cell_type": "code",
   "execution_count": 8,
   "id": "1117e6d3-45ea-4b97-b62f-132bf7cae9e0",
   "metadata": {},
   "outputs": [
    {
     "name": "stdout",
     "output_type": "stream",
     "text": [
      "Training images count: 4185\n",
      "Validating images count: 1047\n"
     ]
    }
   ],
   "source": [
    "TRAIN_IMG_COUNT = tf.data.experimental.cardinality(train_list_ds).numpy()\n",
    "print(f\"Training images count: {TRAIN_IMG_COUNT}\")\n",
    "\n",
    "VAL_IMG_COUNT = tf.data.experimental.cardinality(val_list_ds).numpy()\n",
    "print(f\"Validating images count: {VAL_IMG_COUNT}\")"
   ]
  },
  {
   "cell_type": "code",
   "execution_count": 9,
   "id": "73ae11d5-da6e-4999-a457-088f1aeaf3a0",
   "metadata": {},
   "outputs": [],
   "source": [
    "# 파일 경로의 끝에서 두번째 부분을 확인하면 양성과 음성을 구분할 수 있습니다\n",
    "def get_label(file_path):\n",
    "    parts = tf.strings.split(file_path, os.path.sep)\n",
    "    return parts[-2] == \"PNEUMONIA\"   # 폐렴이면 양성(True), 노말이면 음성(False)"
   ]
  },
  {
   "cell_type": "code",
   "execution_count": 10,
   "id": "ab1de8e3-bf2c-4694-8671-92dbc1351795",
   "metadata": {},
   "outputs": [],
   "source": [
    "# 이미지를 알맞은 형식으로 바꿉니다.\n",
    "def decode_img(img):\n",
    "    img = tf.image.decode_jpeg(img, channels=3) # 이미지를 uint8 tensor로 수정\n",
    "    img = tf.image.convert_image_dtype(img, tf.float32) # float32 타입으로 수정\n",
    "    img = tf.image.resize(img, IMAGE_SIZE) # 이미지 사이즈를 IMAGE_SIZE로 수정\n",
    "    return img\n",
    "\n",
    "# 이미지 파일의 경로를 입력하면 이미지와 라벨을 읽어옵니다.\n",
    "def process_path(file_path):\n",
    "    label = get_label(file_path) # 라벨 검출\n",
    "    img = tf.io.read_file(file_path) # 이미지 읽기\n",
    "    img = decode_img(img) # 이미지를 알맞은 형식으로 수정\n",
    "    return img, label"
   ]
  },
  {
   "cell_type": "code",
   "execution_count": 11,
   "id": "2f91e2d2-bbf2-444c-8ad2-7a4470d2ba2d",
   "metadata": {},
   "outputs": [],
   "source": [
    "train_ds = train_list_ds.map(process_path, num_parallel_calls=AUTOTUNE)\n",
    "val_ds = val_list_ds.map(process_path, num_parallel_calls=AUTOTUNE)"
   ]
  },
  {
   "cell_type": "code",
   "execution_count": 12,
   "id": "ae0d8f41-c4a7-4478-b51e-8949ecda123b",
   "metadata": {},
   "outputs": [
    {
     "name": "stdout",
     "output_type": "stream",
     "text": [
      "Image shape:  (180, 180, 3)\n",
      "Label:  False\n"
     ]
    }
   ],
   "source": [
    "# 이미지 shape 확인\n",
    "for image, label in train_ds.take(1):\n",
    "    print(\"Image shape: \", image.numpy().shape)\n",
    "    print(\"Label: \", label.numpy())"
   ]
  },
  {
   "cell_type": "code",
   "execution_count": 13,
   "id": "94be1dce-cfbf-4080-af8b-3de86fb87345",
   "metadata": {},
   "outputs": [
    {
     "name": "stdout",
     "output_type": "stream",
     "text": [
      "624\n"
     ]
    }
   ],
   "source": [
    "# test 이미지 수 카운트\n",
    "test_list_ds = tf.data.Dataset.list_files(TEST_PATH)\n",
    "TEST_IMAGE_COUNT = tf.data.experimental.cardinality(test_list_ds).numpy()\n",
    "test_ds = test_list_ds.map(process_path, num_parallel_calls=AUTOTUNE)\n",
    "test_ds = test_ds.batch(BATCH_SIZE)\n",
    "\n",
    "print(TEST_IMAGE_COUNT)"
   ]
  },
  {
   "cell_type": "markdown",
   "id": "8375758c-38d4-494f-b6f6-9828216fca1e",
   "metadata": {},
   "source": [
    "# Data Augmentation"
   ]
  },
  {
   "cell_type": "code",
   "execution_count": 14,
   "id": "56459ea4-fe6c-42cd-9429-f4c736ffec72",
   "metadata": {},
   "outputs": [],
   "source": [
    "def augment(image,label):\n",
    "    image = tf.image.random_flip_left_right(image)  # 랜덤하게 좌우를 반전합니다.\n",
    "    return image,label\n",
    "\n",
    "def prepare_for_training(ds, shuffle_buffer_size=1000):\n",
    "    # augment 적용 부분이 배치처리 함수에 추가되었습니다.\n",
    "    ds = ds.map(\n",
    "            augment,       # augment 함수 적용\n",
    "            num_parallel_calls=2\n",
    "        )\n",
    "    ds = ds.shuffle(buffer_size=shuffle_buffer_size)\n",
    "    ds = ds.repeat()\n",
    "    ds = ds.batch(BATCH_SIZE)\n",
    "    ds = ds.prefetch(buffer_size=AUTOTUNE)\n",
    "\n",
    "    return ds\n",
    "\n",
    "train_ds = prepare_for_training(train_ds)\n",
    "val_ds = prepare_for_training(val_ds)"
   ]
  },
  {
   "cell_type": "markdown",
   "id": "b397b9b5-da8b-419f-838f-3e64107d44dc",
   "metadata": {},
   "source": [
    "## 데이터 시각화"
   ]
  },
  {
   "cell_type": "code",
   "execution_count": null,
   "id": "e980a1e8-748b-42cb-b057-d788791fd4be",
   "metadata": {},
   "outputs": [],
   "source": [
    "# 이미지 배치를 입력하면 여러장의 이미지를 보여줍니다.\n",
    "def show_batch(image_batch, label_batch):\n",
    "    plt.figure(figsize=(10,10))\n",
    "    for n in range(BATCH_SIZE):\n",
    "        ax = plt.subplot(4,math.ceil(BATCH_SIZE/4),n+1)\n",
    "        plt.imshow(image_batch[n])\n",
    "        if label_batch[n]:\n",
    "            plt.title(\"PNEUMONIA\")\n",
    "        else:\n",
    "            plt.title(\"NORMAL\")\n",
    "        plt.axis(\"off\")\n",
    "\n",
    "\n",
    "image_batch, label_batch = next(iter(train_ds))\n",
    "show_batch(image_batch.numpy(), label_batch.numpy())"
   ]
  },
  {
   "cell_type": "markdown",
   "id": "7f4b7eb3-1be3-42e3-99fc-fce91a9a8483",
   "metadata": {},
   "source": [
    "## 모델 쌓기 시작"
   ]
  },
  {
   "cell_type": "code",
   "execution_count": null,
   "id": "f1678a82-619f-40da-8ac2-340ef0a7ca77",
   "metadata": {},
   "outputs": [],
   "source": [
    "# Convolution Block 만들기\n",
    "def conv_block(filters):\n",
    "    block = tf.keras.Sequential([\n",
    "        tf.keras.layers.SeparableConv2D(filters, 3, activation='relu', padding='same'),\n",
    "        tf.keras.layers.SeparableConv2D(filters, 3, activation='relu', padding='same'),\n",
    "        tf.keras.layers.BatchNormalization(),\n",
    "        tf.keras.layers.MaxPool2D()\n",
    "    ])\n",
    "    \n",
    "    return block"
   ]
  },
  {
   "cell_type": "code",
   "execution_count": null,
   "id": "221982ac-998c-46d1-ba59-b875b2f2a148",
   "metadata": {},
   "outputs": [],
   "source": [
    "# Dense Block 만들기\n",
    "def dense_block(units, dropout_rate):\n",
    "    block = tf.keras.Sequential([\n",
    "        tf.keras.layers.Dense(units, activation='relu'),\n",
    "        tf.keras.layers.BatchNormalization(),\n",
    "        tf.keras.layers.Dropout(dropout_rate)\n",
    "    ])\n",
    "    \n",
    "    return block"
   ]
  },
  {
   "cell_type": "code",
   "execution_count": null,
   "id": "1505c483-b723-484e-b33c-0524a25e9c24",
   "metadata": {},
   "outputs": [],
   "source": [
    "# 모델 쌓기\n",
    "from tensorflow.keras.layers import UpSampling2D, AveragePooling2D\n",
    "from tensorflow.keras.models import Model\n",
    "\n",
    "def build_model():\n",
    "    # Conv1 레이어\n",
    "    input_layer = layers.Input(shape=(IMAGE_SIZE[0], IMAGE_SIZE[1], 3))\n",
    "    conv1 = layers.Conv2D(filters=64, kernel_size=(7, 7), strides=2, activation='relu', padding='same')(input_layer)\n",
    "    maxpool_1 = layers.MaxPooling2D(pool_size=(3, 3), strides=(2, 2))(conv1)\n",
    "\n",
    "    # Conv2-1 레이어\n",
    "    conv2 = layers.Conv2D(filters=64, kernel_size=(3, 3), strides=2, padding='same')(maxpool_1)\n",
    "    batchnorm_01 = layers.BatchNormalization()(conv2)\n",
    "    activation_01 = layers.Activation('relu')(batchnorm_01)\n",
    "    conv3 = layers.Conv2D(filters=64, kernel_size=(3, 3), strides=2, padding='same')(activation_01)\n",
    "    batchnorm_02 = layers.BatchNormalization()(conv3)\n",
    "    upsampled_batchnorm_02 = UpSampling2D(size=(4, 4))(batchnorm_02)\n",
    "    concat01 = layers.concatenate([upsampled_batchnorm_02, maxpool_1], axis=-1)\n",
    "    activation_02 = layers.Activation('relu')(concat01)\n",
    "        \n",
    "    # Conv2-2 레이어\n",
    "    conv4 = layers.Conv2D(filters=64, kernel_size=(3, 3), strides=2, padding='same')(activation_02)\n",
    "    batchnorm_03 = layers.BatchNormalization()(conv4)\n",
    "    activation_03 = layers.Activation('relu')(batchnorm_03)\n",
    "    conv5 = layers.Conv2D(filters=64, kernel_size=(3, 3), strides=2, padding='same')(activation_03)\n",
    "    batchnorm_04 = layers.BatchNormalization()(conv5)\n",
    "    upsampled_batchnorm_04 = UpSampling2D(size=(4, 4))(batchnorm_04)\n",
    "    concat02 = layers.concatenate([upsampled_batchnorm_04, activation_02], axis=-1)\n",
    "    activation_04 = layers.Activation('relu')(concat02)\n",
    "\n",
    "    # Conv3-1 레이어\n",
    "    conv6 = layers.Conv2D(filters=128, kernel_size=(3, 3), strides=2, padding='same')(activation_04)\n",
    "    batchnorm_05 = layers.BatchNormalization()(conv6)\n",
    "    activation_05 = layers.Activation('relu')(batchnorm_05)\n",
    "    conv7 = layers.Conv2D(filters=128, kernel_size=(3, 3), strides=2, padding='same')(activation_05)\n",
    "    batchnorm_06 = layers.BatchNormalization()(conv7)\n",
    "    upsampled_batchnorm_06 = UpSampling2D(size=(4, 4))(batchnorm_06)\n",
    "    concat03 = layers.concatenate([upsampled_batchnorm_06, activation_04], axis=-1)\n",
    "    activation_06 = layers.Activation('relu')(concat03)\n",
    "\n",
    "    # Conv3-2 레이어\n",
    "    conv8 = layers.Conv2D(filters=128, kernel_size=(3, 3), strides=2, padding='same')(activation_06)\n",
    "    batchnorm_07 = layers.BatchNormalization()(conv8)\n",
    "    activation_07 = layers.Activation('relu')(batchnorm_07)\n",
    "    conv9 = layers.Conv2D(filters=128, kernel_size=(3, 3), strides=2, padding='same')(activation_07)\n",
    "    batchnorm_08 = layers.BatchNormalization()(conv9)\n",
    "    upsampled_batchnorm_08 = UpSampling2D(size=(4, 4))(batchnorm_08)\n",
    "    concat04 = layers.concatenate([upsampled_batchnorm_08, activation_06], axis=-1)\n",
    "    activation_08 = layers.Activation('relu')(concat04)\n",
    "\n",
    "    # Conv 4-1 레이어\n",
    "    conv10 = layers.Conv2D(filters=256, kernel_size=(3, 3), strides=2, padding='same')(activation_08)\n",
    "    batchnorm_09 = layers.BatchNormalization()(conv10)\n",
    "    activation_09 = layers.Activation('relu')(batchnorm_09)\n",
    "    conv11 = layers.Conv2D(filters=256, kernel_size=(3, 3), strides=2, padding='same')(activation_09)\n",
    "    batchnorm_10 = layers.BatchNormalization()(conv11)\n",
    "    upsampled_batchnorm_10 = UpSampling2D(size=(4, 4))(batchnorm_10)\n",
    "    concat05 = layers.concatenate([upsampled_batchnorm_10, activation_08], axis=-1)\n",
    "    activation_10 = layers.Activation('relu')(concat05)\n",
    "\n",
    "    # Conv 4-2 레이어\n",
    "    conv12 = layers.Conv2D(filters=256, kernel_size=(3, 3), strides=2, padding='same')(activation_10)\n",
    "    batchnorm_11 = layers.BatchNormalization()(conv12)\n",
    "    activation_11 = layers.Activation('relu')(batchnorm_11)\n",
    "    conv13 = layers.Conv2D(filters=256, kernel_size=(3, 3), strides=2, padding='same')(activation_11)\n",
    "    batchnorm_12 = layers.BatchNormalization()(conv13)\n",
    "    upsampled_batchnorm_12 = UpSampling2D(size=(4, 4))(batchnorm_12)\n",
    "    concat06 = layers.concatenate([upsampled_batchnorm_12, activation_10], axis=-1)\n",
    "    activation_12 = layers.Activation('relu')(concat06)\n",
    "\n",
    "    # Conv 5-1 레이어\n",
    "    conv14 = layers.Conv2D(filters=512, kernel_size=(3, 3), strides=2, padding='same')(activation_12)\n",
    "    batchnorm_13 = layers.BatchNormalization()(conv14)\n",
    "    activation_13 = layers.Activation('relu')(batchnorm_13)\n",
    "    conv15 = layers.Conv2D(filters=512, kernel_size=(3, 3), strides=2, padding='same')(activation_13)\n",
    "    batchnorm_14 = layers.BatchNormalization()(conv15)\n",
    "    upsampled_batchnorm_14 = UpSampling2D(size=(4, 4))(batchnorm_14)\n",
    "    concat07 = layers.concatenate([upsampled_batchnorm_14, activation_12], axis=-1)\n",
    "    activation_14 = layers.Activation('relu')(concat07)\n",
    "\n",
    "    # Conv 5-2 레이어\n",
    "    conv16 = layers.Conv2D(filters=512, kernel_size=(3, 3), strides=2, padding='same')(activation_14)\n",
    "    batchnorm_15 = layers.BatchNormalization()(conv16)\n",
    "    activation_15 = layers.Activation('relu')(batchnorm_15)\n",
    "    conv17 = layers.Conv2D(filters=512, kernel_size=(3, 3), strides=2, padding='same')(activation_15)\n",
    "    batchnorm_16 = layers.BatchNormalization()(conv17)\n",
    "    upsampled_batchnorm_16 = UpSampling2D(size=(4, 4))(batchnorm_16)\n",
    "    concat08 = layers.concatenate([upsampled_batchnorm_16, activation_14], axis=-1)\n",
    "    activation_16 = layers.Activation('relu')(concat08)\n",
    "\n",
    "    # Average Pooling\n",
    "    avg_pool = layers.AveragePooling2D(pool_size=(7, 7), strides=(1, 1))(activation_16)\n",
    "\n",
    "    # Dense 레이어\n",
    "    flatten_layer = layers.Flatten()(avg_pool)\n",
    "    Affine1 = layers.Dense(100)(flatten_layer)\n",
    "    batchnorm_17 = layers.BatchNormalization()(Affine1)\n",
    "    activation_17 = layers.Activation('relu')(batchnorm_17)\n",
    "\n",
    "    # output 레이어\n",
    "    output_layer = layers.Dense(1, activation='sigmoid')(activation_17)\n",
    "\n",
    "    # 모델 정의\n",
    "    model = Model(inputs=input_layer, outputs=output_layer)\n",
    "    \n",
    "    \n",
    "    return model"
   ]
  },
  {
   "cell_type": "markdown",
   "id": "2e1d135b-016f-4532-86dd-c2fad835f7e0",
   "metadata": {},
   "source": [
    "## 데이터 imbalance 처리"
   ]
  },
  {
   "cell_type": "code",
   "execution_count": null,
   "id": "3035837a-8b35-433a-9c09-7bd40cbd4c3e",
   "metadata": {},
   "outputs": [],
   "source": [
    "# Normal 데이터와 페렴데이터 수 비율 보기\n",
    "weight_for_0 = (1 / COUNT_NORMAL)*(TRAIN_IMG_COUNT)/2.0 \n",
    "weight_for_1 = (1 / COUNT_PNEUMONIA)*(TRAIN_IMG_COUNT)/2.0\n",
    "\n",
    "class_weight = {0: weight_for_0, 1: weight_for_1}\n",
    "\n",
    "print('Weight for NORMAL: {:.2f}'.format(weight_for_0))\n",
    "print('Weight for PNEUMONIA: {:.2f}'.format(weight_for_1))"
   ]
  },
  {
   "cell_type": "markdown",
   "id": "c5ec8d3a-d79a-4f5f-96f4-bef7db6bae7a",
   "metadata": {},
   "source": [
    "## 모델 훈련"
   ]
  },
  {
   "cell_type": "code",
   "execution_count": null,
   "id": "ed2272c8-904e-4c0c-b71f-e991c65d6eb0",
   "metadata": {},
   "outputs": [],
   "source": [
    "# GPU 선택하기\n",
    "import tensorflow.keras.layers as layers\n",
    "from tensorflow.keras import backend as K\n",
    "\n",
    "K.clear_session()\n",
    "\n",
    "with tf.device('/GPU:0'):\n",
    "    model = build_model()\n",
    "\n",
    "    METRICS = [\n",
    "        'accuracy',\n",
    "        tf.keras.metrics.Precision(name='precision'),\n",
    "        tf.keras.metrics.Recall(name='recall')\n",
    "    ]\n",
    "    \n",
    "    model.compile(\n",
    "        optimizer='adam',\n",
    "        loss='binary_crossentropy',\n",
    "        metrics=METRICS\n",
    "    )\n",
    "\n",
    "model.summary()"
   ]
  },
  {
   "cell_type": "code",
   "execution_count": null,
   "id": "d5b15fb7-f79b-478e-9776-37d13b28c131",
   "metadata": {},
   "outputs": [],
   "source": [
    "from tensorflow.keras import backend as K\n",
    "K.clear_session()\n",
    "with tf.device('/GPU:0'):\n",
    "    history = model.fit(\n",
    "        train_ds,\n",
    "        steps_per_epoch=TRAIN_IMG_COUNT // BATCH_SIZE,\n",
    "        epochs=EPOCHS,\n",
    "        validation_data=val_ds,\n",
    "        validation_steps=VAL_IMG_COUNT // BATCH_SIZE,\n",
    "        class_weight=class_weight,\n",
    "    )"
   ]
  },
  {
   "cell_type": "code",
   "execution_count": null,
   "id": "90f82448-bb7d-42c7-9454-b2b54850bfda",
   "metadata": {},
   "outputs": [],
   "source": [
    "# 결과 확인\n",
    "fig, ax = plt.subplots(1, 4, figsize=(20, 3))\n",
    "ax = ax.ravel()\n",
    "\n",
    "for i, met in enumerate(['precision', 'recall', 'accuracy', 'loss']):\n",
    "    ax[i].plot(history.history[met])\n",
    "    ax[i].plot(history.history['val_' + met])\n",
    "    ax[i].set_title('Model {}'.format(met))\n",
    "    ax[i].set_xlabel('epochs')\n",
    "    ax[i].set_ylabel(met)\n",
    "    ax[i].legend(['train', 'val'])"
   ]
  },
  {
   "cell_type": "code",
   "execution_count": null,
   "id": "91ec9a25-eef0-4b8a-9f0b-6003b093dc5a",
   "metadata": {},
   "outputs": [],
   "source": [
    "# 모델 테스트\n",
    "loss, accuracy, precision, recall = model.evaluate(test_ds)\n",
    "print(f'Loss: {loss},\\nAccuracy: {accuracy},\\nPrecision: {precision},\\nRecall: {recall}')"
   ]
  }
 ],
 "metadata": {
  "kernelspec": {
   "display_name": "Python 3 (ipykernel)",
   "language": "python",
   "name": "python3"
  },
  "language_info": {
   "codemirror_mode": {
    "name": "ipython",
    "version": 3
   },
   "file_extension": ".py",
   "mimetype": "text/x-python",
   "name": "python",
   "nbconvert_exporter": "python",
   "pygments_lexer": "ipython3",
   "version": "3.10.0"
  }
 },
 "nbformat": 4,
 "nbformat_minor": 5
}
