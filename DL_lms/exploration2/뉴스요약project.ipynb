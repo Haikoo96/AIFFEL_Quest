{
 "cells": [
  {
   "cell_type": "markdown",
   "id": "4ca7560d-9a5f-4b4d-a30e-5a280d19008a",
   "metadata": {},
   "source": [
    "## 뉴스요약 챗봇\n",
    "-------------------------------------\n",
    "\n",
    "## 들어가기전 참고사항\n",
    "-------------------------------------\n",
    "1. 전처리only.ipynb 파일에서 전처리 후 csv 파일을 저장\n",
    "2. csv 파일을 불러와서 진행할 것\n",
    "\n",
    "## 전처리 코드\n",
    "------------------------------------\n",
    "<img src=\"https://github.com/Haikoo96/aiffel_quest2RE/blob/main/DL_lms/exploration2/%EC%A0%84%EC%B2%98%EB%A6%AC%EC%BD%94%EB%93%9Ccsv_%EC%A0%80%EC%9E%A5.png\" width=\"450px\" height=\"300px\" title=\"전처리 코드\"></img>\n",
    "<img src=\"https://github.com/Haikoo96/aiffel_quest2RE/blob/main/DL_lms/exploration2/%EC%A0%84%EC%B2%98%EB%A6%AC%EC%BD%94%EB%93%9C.png\" width=\"450px\" height=\"300px\" title=\"전처리 데이터 csv 저장\"></img>"
   ]
  },
  {
   "cell_type": "code",
   "execution_count": 1,
   "id": "125c6e6f-2cf8-48a8-b647-2a7fa11a1864",
   "metadata": {},
   "outputs": [
    {
     "name": "stderr",
     "output_type": "stream",
     "text": [
      "[nltk_data] Downloading package stopwords to\n",
      "[nltk_data]     C:\\Users\\박해극\\AppData\\Roaming\\nltk_data...\n",
      "[nltk_data]   Package stopwords is already up-to-date!\n"
     ]
    },
    {
     "name": "stdout",
     "output_type": "stream",
     "text": [
      "=3\n"
     ]
    }
   ],
   "source": [
    "import nltk\n",
    "nltk.download('stopwords')\n",
    "\n",
    "import numpy as np\n",
    "import pandas as pd\n",
    "import os\n",
    "import re\n",
    "import matplotlib.pyplot as plt\n",
    "from nltk.corpus import stopwords\n",
    "from bs4 import BeautifulSoup \n",
    "from tensorflow.keras.preprocessing.text import Tokenizer \n",
    "from tensorflow.keras.preprocessing.sequence import pad_sequences\n",
    "import urllib.request\n",
    "import warnings\n",
    "warnings.filterwarnings(\"ignore\", category=UserWarning, module='bs4')\n",
    "\n",
    "print('=3')"
   ]
  },
  {
   "cell_type": "code",
   "execution_count": 2,
   "id": "3237d11e-cf4f-4db9-ba49-7c636457657f",
   "metadata": {},
   "outputs": [],
   "source": [
    "df = pd.read_csv(r\"C:\\Users\\박해극\\Aiffel\\AIFFEL_Quest\\DL_lms\\exploration2\\processed_news_sent.csv\")"
   ]
  },
  {
   "cell_type": "code",
   "execution_count": 3,
   "id": "072dbc81-912b-4190-b92a-774849bfca02",
   "metadata": {},
   "outputs": [],
   "source": [
    "df = pd.DataFrame(df)"
   ]
  },
  {
   "cell_type": "code",
   "execution_count": 4,
   "id": "347353e0-f767-45b8-acf2-174c73eee6be",
   "metadata": {},
   "outputs": [
    {
     "data": {
      "text/html": [
       "<div>\n",
       "<style scoped>\n",
       "    .dataframe tbody tr th:only-of-type {\n",
       "        vertical-align: middle;\n",
       "    }\n",
       "\n",
       "    .dataframe tbody tr th {\n",
       "        vertical-align: top;\n",
       "    }\n",
       "\n",
       "    .dataframe thead th {\n",
       "        text-align: right;\n",
       "    }\n",
       "</style>\n",
       "<table border=\"1\" class=\"dataframe\">\n",
       "  <thead>\n",
       "    <tr style=\"text-align: right;\">\n",
       "      <th></th>\n",
       "      <th>headline</th>\n",
       "      <th>text</th>\n",
       "    </tr>\n",
       "  </thead>\n",
       "  <tbody>\n",
       "    <tr>\n",
       "      <th>0</th>\n",
       "      <td>upgrad learner switches to career in ml al wit...</td>\n",
       "      <td>saurav kant alumnus upgrad iiit pg program mac...</td>\n",
       "    </tr>\n",
       "    <tr>\n",
       "      <th>1</th>\n",
       "      <td>delhi techie wins free food from swiggy for on...</td>\n",
       "      <td>kunal shah credit card bill payment platform c...</td>\n",
       "    </tr>\n",
       "    <tr>\n",
       "      <th>2</th>\n",
       "      <td>new zealand end rohit sharma led india match w...</td>\n",
       "      <td>new zealand defeated india wickets fourth odi ...</td>\n",
       "    </tr>\n",
       "    <tr>\n",
       "      <th>3</th>\n",
       "      <td>aegon life iterm insurance plan helps customer...</td>\n",
       "      <td>aegon life iterm insurance plan customers enjo...</td>\n",
       "    </tr>\n",
       "    <tr>\n",
       "      <th>4</th>\n",
       "      <td>have known hirani for yrs what if metoo claims...</td>\n",
       "      <td>speaking sexual harassment allegations rajkuma...</td>\n",
       "    </tr>\n",
       "  </tbody>\n",
       "</table>\n",
       "</div>"
      ],
      "text/plain": [
       "                                            headline  \\\n",
       "0  upgrad learner switches to career in ml al wit...   \n",
       "1  delhi techie wins free food from swiggy for on...   \n",
       "2  new zealand end rohit sharma led india match w...   \n",
       "3  aegon life iterm insurance plan helps customer...   \n",
       "4  have known hirani for yrs what if metoo claims...   \n",
       "\n",
       "                                                text  \n",
       "0  saurav kant alumnus upgrad iiit pg program mac...  \n",
       "1  kunal shah credit card bill payment platform c...  \n",
       "2  new zealand defeated india wickets fourth odi ...  \n",
       "3  aegon life iterm insurance plan customers enjo...  \n",
       "4  speaking sexual harassment allegations rajkuma...  "
      ]
     },
     "execution_count": 4,
     "metadata": {},
     "output_type": "execute_result"
    }
   ],
   "source": [
    "df.head(5)"
   ]
  },
  {
   "cell_type": "code",
   "execution_count": 5,
   "id": "fc44fd7b-d435-4a59-b3b1-931821586c11",
   "metadata": {},
   "outputs": [
    {
     "name": "stdout",
     "output_type": "stream",
     "text": [
      "headline numbers: 98401\n",
      "headline numbers: 98401\n"
     ]
    }
   ],
   "source": [
    "print(\"headline numbers: {num_headline}\".format(num_headline = len(df[\"headline\"])))\n",
    "print(\"headline numbers: {num_text}\".format(num_text = len(df[\"text\"])))"
   ]
  },
  {
   "cell_type": "code",
   "execution_count": 6,
   "id": "dc5f3fc2-645d-4ae5-ab50-460d5b013526",
   "metadata": {},
   "outputs": [
    {
     "name": "stdout",
     "output_type": "stream",
     "text": [
      "텍스트의 최소 길이 : 1\n",
      "텍스트의 최대 길이 : 60\n",
      "텍스트의 평균 길이 : 35.09983638377659\n",
      "요약의 최소 길이 : 1\n",
      "요약의 최대 길이 : 16\n",
      "요약의 평균 길이 : 9.299651426306644\n"
     ]
    },
    {
     "data": {
      "image/png": "[encoded data removed]",
      "text/plain": [
       "<Figure size 640x480 with 2 Axes>"
      ]
     },
     "metadata": {},
     "output_type": "display_data"
    },
    {
     "data": {
      "image/png": "[encoded data removed]",
      "text/plain": [
       "<Figure size 640x480 with 1 Axes>"
      ]
     },
     "metadata": {},
     "output_type": "display_data"
    },
    {
     "data": {
      "image/png": "[encoded data removed]",
      "text/plain": [
       "<Figure size 640x480 with 1 Axes>"
      ]
     },
     "metadata": {},
     "output_type": "display_data"
    }
   ],
   "source": [
    "# 길이 분포 출력\n",
    "import matplotlib.pyplot as plt\n",
    "\n",
    "text_len = [len(s.split()) for s in df['text']]\n",
    "summary_len = [len(s.split()) for s in df['headline']]\n",
    "\n",
    "print('텍스트의 최소 길이 : {}'.format(np.min(text_len)))\n",
    "print('텍스트의 최대 길이 : {}'.format(np.max(text_len)))\n",
    "print('텍스트의 평균 길이 : {}'.format(np.mean(text_len)))\n",
    "print('요약의 최소 길이 : {}'.format(np.min(summary_len)))\n",
    "print('요약의 최대 길이 : {}'.format(np.max(summary_len)))\n",
    "print('요약의 평균 길이 : {}'.format(np.mean(summary_len)))\n",
    "\n",
    "plt.subplot(1,2,1)\n",
    "plt.boxplot(text_len)\n",
    "plt.title('Text')\n",
    "plt.subplot(1,2,2)\n",
    "plt.boxplot(summary_len)\n",
    "plt.title('Summary')\n",
    "plt.tight_layout()\n",
    "plt.show()\n",
    "\n",
    "plt.title('Text')\n",
    "plt.hist(text_len, bins = 40)\n",
    "plt.xlabel('length of samples')\n",
    "plt.ylabel('number of samples')\n",
    "plt.show()\n",
    "\n",
    "plt.title('Summary')\n",
    "plt.hist(summary_len, bins = 40)\n",
    "plt.xlabel('length of samples')\n",
    "plt.ylabel('number of samples')\n",
    "plt.show()"
   ]
  },
  {
   "cell_type": "code",
   "execution_count": 7,
   "id": "b2eea2c1-8cfb-4fb1-bb02-110403aa527e",
   "metadata": {},
   "outputs": [
    {
     "name": "stdout",
     "output_type": "stream",
     "text": [
      "=3\n"
     ]
    }
   ],
   "source": [
    "text_max_len = 60\n",
    "summary_max_len = 16\n",
    "print('=3')"
   ]
  },
  {
   "cell_type": "code",
   "execution_count": 8,
   "id": "95d4822d-14cf-4349-a52c-cf7eaae4e23d",
   "metadata": {},
   "outputs": [
    {
     "name": "stdout",
     "output_type": "stream",
     "text": [
      "=3\n"
     ]
    }
   ],
   "source": [
    "def below_threshold_len(max_len, nested_list):\n",
    "  cnt = 0\n",
    "  for s in nested_list:\n",
    "    if(len(s.split()) <= max_len):\n",
    "        cnt = cnt + 1\n",
    "  print('전체 샘플 중 길이가 %s 이하인 샘플의 비율: %s'%(max_len, (cnt / len(nested_list))))\n",
    "print('=3')"
   ]
  },
  {
   "cell_type": "code",
   "execution_count": 9,
   "id": "b0db4e63-7c7b-4d2d-8702-a5a27380850c",
   "metadata": {},
   "outputs": [
    {
     "name": "stdout",
     "output_type": "stream",
     "text": [
      "전체 샘플 중 길이가 60 이하인 샘플의 비율: 1.0\n",
      "전체 샘플 중 길이가 16 이하인 샘플의 비율: 1.0\n"
     ]
    }
   ],
   "source": [
    "below_threshold_len(text_max_len, df['text'])\n",
    "below_threshold_len(summary_max_len,  df['headline'])"
   ]
  },
  {
   "cell_type": "code",
   "execution_count": 10,
   "id": "38070b4f-65ba-4150-b64a-4a93e76508cd",
   "metadata": {},
   "outputs": [],
   "source": [
    "df = df[(df['text'].apply(lambda x: len(x.split()) <= text_max_len)) & \n",
    "            (df['headline'].apply(lambda x: len(x.split()) <= summary_max_len))]"
   ]
  },
  {
   "cell_type": "code",
   "execution_count": 11,
   "id": "3d2ce6fd-fa4c-43f4-b0fd-76aeba64fcc2",
   "metadata": {},
   "outputs": [
    {
     "data": {
      "text/html": [
       "<div>\n",
       "<style scoped>\n",
       "    .dataframe tbody tr th:only-of-type {\n",
       "        vertical-align: middle;\n",
       "    }\n",
       "\n",
       "    .dataframe tbody tr th {\n",
       "        vertical-align: top;\n",
       "    }\n",
       "\n",
       "    .dataframe thead th {\n",
       "        text-align: right;\n",
       "    }\n",
       "</style>\n",
       "<table border=\"1\" class=\"dataframe\">\n",
       "  <thead>\n",
       "    <tr style=\"text-align: right;\">\n",
       "      <th></th>\n",
       "      <th>headline</th>\n",
       "      <th>text</th>\n",
       "      <th>decoder_input</th>\n",
       "      <th>decoder_target</th>\n",
       "    </tr>\n",
       "  </thead>\n",
       "  <tbody>\n",
       "    <tr>\n",
       "      <th>0</th>\n",
       "      <td>upgrad learner switches to career in ml al wit...</td>\n",
       "      <td>saurav kant alumnus upgrad iiit pg program mac...</td>\n",
       "      <td>sostoken upgrad learner switches to career in ...</td>\n",
       "      <td>upgrad learner switches to career in ml al wit...</td>\n",
       "    </tr>\n",
       "    <tr>\n",
       "      <th>1</th>\n",
       "      <td>delhi techie wins free food from swiggy for on...</td>\n",
       "      <td>kunal shah credit card bill payment platform c...</td>\n",
       "      <td>sostoken delhi techie wins free food from swig...</td>\n",
       "      <td>delhi techie wins free food from swiggy for on...</td>\n",
       "    </tr>\n",
       "    <tr>\n",
       "      <th>2</th>\n",
       "      <td>new zealand end rohit sharma led india match w...</td>\n",
       "      <td>new zealand defeated india wickets fourth odi ...</td>\n",
       "      <td>sostoken new zealand end rohit sharma led indi...</td>\n",
       "      <td>new zealand end rohit sharma led india match w...</td>\n",
       "    </tr>\n",
       "    <tr>\n",
       "      <th>3</th>\n",
       "      <td>aegon life iterm insurance plan helps customer...</td>\n",
       "      <td>aegon life iterm insurance plan customers enjo...</td>\n",
       "      <td>sostoken aegon life iterm insurance plan helps...</td>\n",
       "      <td>aegon life iterm insurance plan helps customer...</td>\n",
       "    </tr>\n",
       "    <tr>\n",
       "      <th>4</th>\n",
       "      <td>have known hirani for yrs what if metoo claims...</td>\n",
       "      <td>speaking sexual harassment allegations rajkuma...</td>\n",
       "      <td>sostoken have known hirani for yrs what if met...</td>\n",
       "      <td>have known hirani for yrs what if metoo claims...</td>\n",
       "    </tr>\n",
       "  </tbody>\n",
       "</table>\n",
       "</div>"
      ],
      "text/plain": [
       "                                            headline  \\\n",
       "0  upgrad learner switches to career in ml al wit...   \n",
       "1  delhi techie wins free food from swiggy for on...   \n",
       "2  new zealand end rohit sharma led india match w...   \n",
       "3  aegon life iterm insurance plan helps customer...   \n",
       "4  have known hirani for yrs what if metoo claims...   \n",
       "\n",
       "                                                text  \\\n",
       "0  saurav kant alumnus upgrad iiit pg program mac...   \n",
       "1  kunal shah credit card bill payment platform c...   \n",
       "2  new zealand defeated india wickets fourth odi ...   \n",
       "3  aegon life iterm insurance plan customers enjo...   \n",
       "4  speaking sexual harassment allegations rajkuma...   \n",
       "\n",
       "                                       decoder_input  \\\n",
       "0  sostoken upgrad learner switches to career in ...   \n",
       "1  sostoken delhi techie wins free food from swig...   \n",
       "2  sostoken new zealand end rohit sharma led indi...   \n",
       "3  sostoken aegon life iterm insurance plan helps...   \n",
       "4  sostoken have known hirani for yrs what if met...   \n",
       "\n",
       "                                      decoder_target  \n",
       "0  upgrad learner switches to career in ml al wit...  \n",
       "1  delhi techie wins free food from swiggy for on...  \n",
       "2  new zealand end rohit sharma led india match w...  \n",
       "3  aegon life iterm insurance plan helps customer...  \n",
       "4  have known hirani for yrs what if metoo claims...  "
      ]
     },
     "execution_count": 11,
     "metadata": {},
     "output_type": "execute_result"
    }
   ],
   "source": [
    "# 요약 데이터에는 시작 토큰과 종료 토큰을 추가한다.\n",
    "df['decoder_input'] = df['headline'].apply(lambda x : 'sostoken '+ x)\n",
    "df['decoder_target'] = df['headline'].apply(lambda x : x + ' eostoken')\n",
    "df.head()"
   ]
  },
  {
   "cell_type": "code",
   "execution_count": 12,
   "id": "b7a27a78-21e4-4141-9c26-9fd5d99c5e87",
   "metadata": {},
   "outputs": [
    {
     "name": "stdout",
     "output_type": "stream",
     "text": [
      "=3\n"
     ]
    }
   ],
   "source": [
    "encoder_input = np.array(df['text']) # 인코더의 입력\n",
    "decoder_input = np.array(df['decoder_input']) # 디코더의 입력\n",
    "decoder_target = np.array(df['decoder_target']) # 디코더의 레이블\n",
    "print('=3')"
   ]
  },
  {
   "cell_type": "code",
   "execution_count": 13,
   "id": "1d0f9cbe-9e77-4be4-8e3a-5cd76392063f",
   "metadata": {},
   "outputs": [
    {
     "name": "stdout",
     "output_type": "stream",
     "text": [
      "[12402 45528 92829 ... 77299 88318 56718]\n"
     ]
    }
   ],
   "source": [
    "indices = np.arange(encoder_input.shape[0])\n",
    "np.random.shuffle(indices)\n",
    "print(indices)"
   ]
  },
  {
   "cell_type": "code",
   "execution_count": 14,
   "id": "6fd80022-f231-447e-b7d3-8d3635f739d2",
   "metadata": {},
   "outputs": [
    {
     "name": "stdout",
     "output_type": "stream",
     "text": [
      "=3\n"
     ]
    }
   ],
   "source": [
    "encoder_input = encoder_input[indices]\n",
    "decoder_input = decoder_input[indices]\n",
    "decoder_target = decoder_target[indices]\n",
    "print('=3')"
   ]
  },
  {
   "cell_type": "code",
   "execution_count": 15,
   "id": "676a004f-68e9-420b-8b86-476f5069cb6d",
   "metadata": {},
   "outputs": [
    {
     "name": "stdout",
     "output_type": "stream",
     "text": [
      "테스트 데이터의 수 : 19680\n"
     ]
    }
   ],
   "source": [
    "n_of_val = int(len(encoder_input)*0.2)\n",
    "print('테스트 데이터의 수 :', n_of_val)"
   ]
  },
  {
   "cell_type": "code",
   "execution_count": 16,
   "id": "d653cf55-24ab-41d0-bd56-04262b12719e",
   "metadata": {},
   "outputs": [
    {
     "name": "stdout",
     "output_type": "stream",
     "text": [
      "훈련 데이터의 개수 : 78721\n",
      "훈련 레이블의 개수 : 78721\n",
      "테스트 데이터의 개수 : 19680\n",
      "테스트 레이블의 개수 : 19680\n"
     ]
    }
   ],
   "source": [
    "encoder_input_train = encoder_input[:-n_of_val]\n",
    "decoder_input_train = decoder_input[:-n_of_val]\n",
    "decoder_target_train = decoder_target[:-n_of_val]\n",
    "\n",
    "encoder_input_test = encoder_input[-n_of_val:]\n",
    "decoder_input_test = decoder_input[-n_of_val:]\n",
    "decoder_target_test = decoder_target[-n_of_val:]\n",
    "\n",
    "print('훈련 데이터의 개수 :', len(encoder_input_train))\n",
    "print('훈련 레이블의 개수 :', len(decoder_input_train))\n",
    "print('테스트 데이터의 개수 :', len(encoder_input_test))\n",
    "print('테스트 레이블의 개수 :', len(decoder_input_test))"
   ]
  },
  {
   "cell_type": "code",
   "execution_count": 17,
   "id": "d2626e0c-48d8-4779-b19c-8bf988208f46",
   "metadata": {},
   "outputs": [
    {
     "name": "stdout",
     "output_type": "stream",
     "text": [
      "=3\n"
     ]
    }
   ],
   "source": [
    "src_tokenizer = Tokenizer() # 토크나이저 정의\n",
    "src_tokenizer.fit_on_texts(encoder_input_train) # 입력된 데이터로부터 단어 집합 생성\n",
    "print('=3')"
   ]
  },
  {
   "cell_type": "code",
   "execution_count": 18,
   "id": "97f07a26-d317-4dc2-b9ff-e72fea512884",
   "metadata": {},
   "outputs": [
    {
     "name": "stdout",
     "output_type": "stream",
     "text": [
      "단어 집합(vocabulary)의 크기 : 69664\n",
      "등장 빈도가 6번 이하인 희귀 단어의 수: 47513\n",
      "단어 집합에서 희귀 단어를 제외시킬 경우의 단어 집합의 크기 22151\n",
      "단어 집합에서 희귀 단어의 비율: 68.20308911345889\n",
      "전체 등장 빈도에서 희귀 단어 등장 빈도 비율: 3.4922231427982218\n"
     ]
    }
   ],
   "source": [
    "threshold = 7\n",
    "total_cnt = len(src_tokenizer.word_index) # 단어의 수\n",
    "rare_cnt = 0 # 등장 빈도수가 threshold보다 작은 단어의 개수를 카운트\n",
    "total_freq = 0 # 훈련 데이터의 전체 단어 빈도수 총 합\n",
    "rare_freq = 0 # 등장 빈도수가 threshold보다 작은 단어의 등장 빈도수의 총 합\n",
    "\n",
    "# 단어와 빈도수의 쌍(pair)을 key와 value로 받는다.\n",
    "for key, value in src_tokenizer.word_counts.items():\n",
    "    total_freq = total_freq + value\n",
    "\n",
    "    # 단어의 등장 빈도수가 threshold보다 작으면\n",
    "    if(value < threshold):\n",
    "        rare_cnt = rare_cnt + 1\n",
    "        rare_freq = rare_freq + value\n",
    "\n",
    "print('단어 집합(vocabulary)의 크기 :', total_cnt)\n",
    "print('등장 빈도가 %s번 이하인 희귀 단어의 수: %s'%(threshold - 1, rare_cnt))\n",
    "print('단어 집합에서 희귀 단어를 제외시킬 경우의 단어 집합의 크기 %s'%(total_cnt - rare_cnt))\n",
    "print(\"단어 집합에서 희귀 단어의 비율:\", (rare_cnt / total_cnt)*100)\n",
    "print(\"전체 등장 빈도에서 희귀 단어 등장 빈도 비율:\", (rare_freq / total_freq)*100)"
   ]
  },
  {
   "cell_type": "code",
   "execution_count": 19,
   "id": "686ccca4-26f6-4564-94ea-77193c747799",
   "metadata": {},
   "outputs": [
    {
     "name": "stdout",
     "output_type": "stream",
     "text": [
      "=3\n"
     ]
    }
   ],
   "source": [
    "src_vocab = 20000\n",
    "src_tokenizer = Tokenizer(num_words=src_vocab) # 단어 집합의 크기를 20,000으로 제한\n",
    "src_tokenizer.fit_on_texts(encoder_input_train) # 단어 집합 재생성\n",
    "print('=3')"
   ]
  },
  {
   "cell_type": "code",
   "execution_count": 20,
   "id": "59bd0ecb-37a6-4b7c-acc9-35e0fe8347fb",
   "metadata": {},
   "outputs": [
    {
     "name": "stdout",
     "output_type": "stream",
     "text": [
      "[[38, 466, 1636, 130, 41, 293, 6724, 703, 1766, 2833, 151, 15, 372, 65, 1637, 2502, 14257, 392, 313, 271, 1039, 119, 13806, 33, 1276, 139, 4, 29, 24, 1766, 858, 2833, 307, 214, 2861, 1291], [16713, 3336, 679, 211, 92, 231, 3099, 1537, 3336, 520, 4550, 2895, 604, 16713, 665, 4487, 3336, 80, 1891, 23, 147, 119, 10279, 5767, 217, 1515, 10060, 3336, 35, 280, 79, 494, 155, 1456, 10060, 291, 310], [1309, 5768, 2792, 129, 117, 530, 1467, 62, 1, 4990, 1842, 1161, 823, 95, 311, 4, 5541, 402, 823, 2059, 874, 1467, 409, 60, 370, 2792, 117, 1023, 7184, 53, 535, 2, 1091, 39]]\n"
     ]
    }
   ],
   "source": [
    "# 텍스트 시퀀스를 정수 시퀀스로 변환\n",
    "encoder_input_train = src_tokenizer.texts_to_sequences(encoder_input_train) \n",
    "encoder_input_test = src_tokenizer.texts_to_sequences(encoder_input_test)\n",
    "\n",
    "# 잘 진행되었는지 샘플 출력\n",
    "print(encoder_input_train[:3])"
   ]
  },
  {
   "cell_type": "code",
   "execution_count": 21,
   "id": "4efc953c-f858-4fc5-83e7-33c7d144ab20",
   "metadata": {},
   "outputs": [
    {
     "name": "stdout",
     "output_type": "stream",
     "text": [
      "=3\n"
     ]
    }
   ],
   "source": [
    "tar_tokenizer = Tokenizer()\n",
    "tar_tokenizer.fit_on_texts(decoder_input_train)\n",
    "print('=3')"
   ]
  },
  {
   "cell_type": "code",
   "execution_count": 22,
   "id": "87865d61-9ca0-4667-928a-279d4ec83f1b",
   "metadata": {},
   "outputs": [
    {
     "name": "stdout",
     "output_type": "stream",
     "text": [
      "단어 집합(vocabulary)의 크기 : 30152\n",
      "등장 빈도가 5번 이하인 희귀 단어의 수: 19731\n",
      "단어 집합에서 희귀 단어를 제외시킬 경우의 단어 집합의 크기 10421\n",
      "단어 집합에서 희귀 단어의 비율: 65.43844521093128\n",
      "전체 등장 빈도에서 희귀 단어 등장 빈도 비율: 4.658488860832223\n"
     ]
    }
   ],
   "source": [
    "threshold = 6\n",
    "total_cnt = len(tar_tokenizer.word_index) # 단어의 수\n",
    "rare_cnt = 0 # 등장 빈도수가 threshold보다 작은 단어의 개수를 카운트\n",
    "total_freq = 0 # 훈련 데이터의 전체 단어 빈도수 총 합\n",
    "rare_freq = 0 # 등장 빈도수가 threshold보다 작은 단어의 등장 빈도수의 총 합\n",
    "\n",
    "# 단어와 빈도수의 쌍(pair)을 key와 value로 받는다.\n",
    "for key, value in tar_tokenizer.word_counts.items():\n",
    "    total_freq = total_freq + value\n",
    "\n",
    "    # 단어의 등장 빈도수가 threshold보다 작으면\n",
    "    if(value < threshold):\n",
    "        rare_cnt = rare_cnt + 1\n",
    "        rare_freq = rare_freq + value\n",
    "\n",
    "print('단어 집합(vocabulary)의 크기 :', total_cnt)\n",
    "print('등장 빈도가 %s번 이하인 희귀 단어의 수: %s'%(threshold - 1, rare_cnt))\n",
    "print('단어 집합에서 희귀 단어를 제외시킬 경우의 단어 집합의 크기 %s'%(total_cnt - rare_cnt))\n",
    "print(\"단어 집합에서 희귀 단어의 비율:\", (rare_cnt / total_cnt)*100)\n",
    "print(\"전체 등장 빈도에서 희귀 단어 등장 빈도 비율:\", (rare_freq / total_freq)*100)"
   ]
  },
  {
   "cell_type": "code",
   "execution_count": 23,
   "id": "ed0411ce-5c53-4cfe-8c39-ab96ee03a18f",
   "metadata": {},
   "outputs": [
    {
     "name": "stdout",
     "output_type": "stream",
     "text": [
      "input\n",
      "input  [[1, 3183, 492, 70, 390, 227, 7241, 288, 910], [1, 765, 530, 3184, 5394], [1, 164, 19, 10, 521, 5, 18, 335, 341, 881, 1059], [1, 8, 1573, 1636, 583, 2627, 4, 1573, 1727, 3496], [1, 489, 2475, 942, 5, 489, 117, 16, 333, 1708, 34]]\n",
      "target\n",
      "decoder  [[3183, 492, 70, 390, 227, 7241, 288, 910, 2], [765, 530, 3184, 5394, 2], [164, 19, 10, 521, 5, 18, 335, 341, 881, 1059, 2], [8, 1573, 1636, 583, 2627, 4, 1573, 1727, 3496, 2], [489, 2475, 942, 5, 489, 117, 16, 333, 1708, 34, 2]]\n"
     ]
    }
   ],
   "source": [
    "tar_vocab = 10000\n",
    "tar_tokenizer = Tokenizer(num_words=tar_vocab) \n",
    "tar_tokenizer.fit_on_texts(decoder_input_train)\n",
    "tar_tokenizer.fit_on_texts(decoder_target_train)\n",
    "\n",
    "# 텍스트 시퀀스를 정수 시퀀스로 변환\n",
    "decoder_input_train = tar_tokenizer.texts_to_sequences(decoder_input_train) \n",
    "decoder_target_train = tar_tokenizer.texts_to_sequences(decoder_target_train)\n",
    "decoder_input_test = tar_tokenizer.texts_to_sequences(decoder_input_test)\n",
    "decoder_target_test = tar_tokenizer.texts_to_sequences(decoder_target_test)\n",
    "\n",
    "# 잘 변환되었는지 확인\n",
    "print('input')\n",
    "print('input ',decoder_input_train[:5])\n",
    "print('target')\n",
    "print('decoder ',decoder_target_train[:5])"
   ]
  },
  {
   "cell_type": "code",
   "execution_count": 24,
   "id": "a59ae249-74f0-4f3e-a59a-4db98910b762",
   "metadata": {},
   "outputs": [
    {
     "name": "stdout",
     "output_type": "stream",
     "text": [
      "삭제할 훈련 데이터의 개수 : 1\n",
      "삭제할 테스트 데이터의 개수 : 0\n",
      "훈련 데이터의 개수 : 78720\n",
      "훈련 레이블의 개수 : 78720\n",
      "테스트 데이터의 개수 : 19680\n",
      "테스트 레이블의 개수 : 19680\n"
     ]
    }
   ],
   "source": [
    "drop_train = [index for index, sentence in enumerate(decoder_input_train) if len(sentence) == 1]\n",
    "drop_test = [index for index, sentence in enumerate(decoder_input_test) if len(sentence) == 1]\n",
    "\n",
    "print('삭제할 훈련 데이터의 개수 :', len(drop_train))\n",
    "print('삭제할 테스트 데이터의 개수 :', len(drop_test))\n",
    "\n",
    "encoder_input_train = [sentence for index, sentence in enumerate(encoder_input_train) if index not in drop_train]\n",
    "decoder_input_train = [sentence for index, sentence in enumerate(decoder_input_train) if index not in drop_train]\n",
    "decoder_target_train = [sentence for index, sentence in enumerate(decoder_target_train) if index not in drop_train]\n",
    "\n",
    "encoder_input_test = [sentence for index, sentence in enumerate(encoder_input_test) if index not in drop_test]\n",
    "decoder_input_test = [sentence for index, sentence in enumerate(decoder_input_test) if index not in drop_test]\n",
    "decoder_target_test = [sentence for index, sentence in enumerate(decoder_target_test) if index not in drop_test]\n",
    "\n",
    "print('훈련 데이터의 개수 :', len(encoder_input_train))\n",
    "print('훈련 레이블의 개수 :', len(decoder_input_train))\n",
    "print('테스트 데이터의 개수 :', len(encoder_input_test))\n",
    "print('테스트 레이블의 개수 :', len(decoder_input_test))"
   ]
  },
  {
   "cell_type": "code",
   "execution_count": 25,
   "id": "cd3efece-0c37-4d3a-b935-5d0997aaf291",
   "metadata": {},
   "outputs": [
    {
     "name": "stdout",
     "output_type": "stream",
     "text": [
      "=3\n"
     ]
    }
   ],
   "source": [
    "encoder_input_train = pad_sequences(encoder_input_train, maxlen=text_max_len, padding='post')\n",
    "encoder_input_test = pad_sequences(encoder_input_test, maxlen=text_max_len, padding='post')\n",
    "decoder_input_train = pad_sequences(decoder_input_train, maxlen=summary_max_len, padding='post')\n",
    "decoder_target_train = pad_sequences(decoder_target_train, maxlen=summary_max_len, padding='post')\n",
    "decoder_input_test = pad_sequences(decoder_input_test, maxlen=summary_max_len, padding='post')\n",
    "decoder_target_test = pad_sequences(decoder_target_test, maxlen=summary_max_len, padding='post')\n",
    "print('=3')"
   ]
  },
  {
   "cell_type": "code",
   "execution_count": 26,
   "id": "a4b90416-94df-46bc-bf98-fcbaa078e07f",
   "metadata": {},
   "outputs": [
    {
     "name": "stdout",
     "output_type": "stream",
     "text": [
      "WARNING:tensorflow:Layer lstm will not use cuDNN kernels since it doesn't meet the criteria. It will use a generic GPU kernel as fallback when running on GPU.\n",
      "WARNING:tensorflow:Layer lstm_1 will not use cuDNN kernels since it doesn't meet the criteria. It will use a generic GPU kernel as fallback when running on GPU.\n",
      "WARNING:tensorflow:Layer lstm_2 will not use cuDNN kernels since it doesn't meet the criteria. It will use a generic GPU kernel as fallback when running on GPU.\n"
     ]
    }
   ],
   "source": [
    "from tensorflow.keras.layers import Input, LSTM, Embedding, Dense, Concatenate, TimeDistributed\n",
    "from tensorflow.keras.models import Model\n",
    "from tensorflow.keras.callbacks import EarlyStopping, ModelCheckpoint\n",
    "\n",
    "\n",
    "# 인코더 설계 시작\n",
    "embedding_dim = 128\n",
    "hidden_size = 256\n",
    "\n",
    "# 인코더\n",
    "encoder_inputs = Input(shape=(text_max_len,))\n",
    "\n",
    "# 인코더의 임베딩 층\n",
    "enc_emb = Embedding(src_vocab, embedding_dim)(encoder_inputs)\n",
    "\n",
    "# 인코더의 LSTM 1\n",
    "encoder_lstm1 = LSTM(hidden_size, return_sequences=True, return_state=True ,dropout = 0.4, recurrent_dropout = 0.4)\n",
    "encoder_output1, state_h1, state_c1 = encoder_lstm1(enc_emb)\n",
    "\n",
    "# 인코더의 LSTM 2\n",
    "encoder_lstm2 = LSTM(hidden_size, return_sequences=True, return_state=True ,dropout = 0.4, recurrent_dropout = 0.4)\n",
    "encoder_output2, state_h2, state_c2 = encoder_lstm2(encoder_output1)\n",
    "\n",
    "# 인코더의 LSTM 3\n",
    "encoder_lstm3 = LSTM(hidden_size, return_sequences=True, return_state=True ,dropout = 0.4, recurrent_dropout = 0.4)\n",
    "encoder_output3, state_h3, state_c3 = encoder_lstm3(encoder_output2)"
   ]
  },
  {
   "cell_type": "code",
   "execution_count": 27,
   "id": "5f7ec35a-5513-448d-973b-510254e93559",
   "metadata": {},
   "outputs": [],
   "source": [
    "# 디코더 설계\n",
    "decoder_inputs = Input(shape=(None,))\n",
    "\n",
    "# 디코더의 임베딩 층\n",
    "dec_emb_layer = Embedding(tar_vocab, embedding_dim)\n",
    "dec_emb = dec_emb_layer(decoder_inputs)\n",
    "\n",
    "# 디코더의 LSTM\n",
    "# decoder_lstm = LSTM(hidden_size, return_sequences=True, return_state=True, dropout=0.4, recurrent_dropout=0.2)\n",
    "decoder_lstm = LSTM(hidden_size, return_sequences=True, return_state=True, dropout=0.4)\n",
    "decoder_outputs, _, _ = decoder_lstm(dec_emb, initial_state=[state_h3, state_c3])"
   ]
  },
  {
   "cell_type": "code",
   "execution_count": 28,
   "id": "9d526e51-e8a0-49a1-9b69-fb11ce10a1a7",
   "metadata": {},
   "outputs": [
    {
     "name": "stdout",
     "output_type": "stream",
     "text": [
      "Model: \"model\"\n",
      "__________________________________________________________________________________________________\n",
      " Layer (type)                   Output Shape         Param #     Connected to                     \n",
      "==================================================================================================\n",
      " input_1 (InputLayer)           [(None, 60)]         0           []                               \n",
      "                                                                                                  \n",
      " embedding (Embedding)          (None, 60, 128)      2560000     ['input_1[0][0]']                \n",
      "                                                                                                  \n",
      " lstm (LSTM)                    [(None, 60, 256),    394240      ['embedding[0][0]']              \n",
      "                                 (None, 256),                                                     \n",
      "                                 (None, 256)]                                                     \n",
      "                                                                                                  \n",
      " input_2 (InputLayer)           [(None, None)]       0           []                               \n",
      "                                                                                                  \n",
      " lstm_1 (LSTM)                  [(None, 60, 256),    525312      ['lstm[0][0]']                   \n",
      "                                 (None, 256),                                                     \n",
      "                                 (None, 256)]                                                     \n",
      "                                                                                                  \n",
      " embedding_1 (Embedding)        (None, None, 128)    1280000     ['input_2[0][0]']                \n",
      "                                                                                                  \n",
      " lstm_2 (LSTM)                  [(None, 60, 256),    525312      ['lstm_1[0][0]']                 \n",
      "                                 (None, 256),                                                     \n",
      "                                 (None, 256)]                                                     \n",
      "                                                                                                  \n",
      " lstm_3 (LSTM)                  [(None, None, 256),  394240      ['embedding_1[0][0]',            \n",
      "                                 (None, 256),                     'lstm_2[0][1]',                 \n",
      "                                 (None, 256)]                     'lstm_2[0][2]']                 \n",
      "                                                                                                  \n",
      " dense (Dense)                  (None, None, 10000)  2570000     ['lstm_3[0][0]']                 \n",
      "                                                                                                  \n",
      "==================================================================================================\n",
      "Total params: 8,249,104\n",
      "Trainable params: 8,249,104\n",
      "Non-trainable params: 0\n",
      "__________________________________________________________________________________________________\n"
     ]
    }
   ],
   "source": [
    "# 디코더의 출력층\n",
    "decoder_softmax_layer = Dense(tar_vocab, activation='softmax')\n",
    "decoder_softmax_outputs = decoder_softmax_layer(decoder_outputs) \n",
    "\n",
    "# 모델 정의\n",
    "model = Model([encoder_inputs, decoder_inputs], decoder_softmax_outputs)\n",
    "model.summary()"
   ]
  },
  {
   "cell_type": "code",
   "execution_count": 29,
   "id": "ad06dcab-204e-48ea-aa3c-eb5b77174a70",
   "metadata": {},
   "outputs": [
    {
     "name": "stdout",
     "output_type": "stream",
     "text": [
      "Model: \"model_1\"\n",
      "__________________________________________________________________________________________________\n",
      " Layer (type)                   Output Shape         Param #     Connected to                     \n",
      "==================================================================================================\n",
      " input_1 (InputLayer)           [(None, 60)]         0           []                               \n",
      "                                                                                                  \n",
      " embedding (Embedding)          (None, 60, 128)      2560000     ['input_1[0][0]']                \n",
      "                                                                                                  \n",
      " lstm (LSTM)                    [(None, 60, 256),    394240      ['embedding[0][0]']              \n",
      "                                 (None, 256),                                                     \n",
      "                                 (None, 256)]                                                     \n",
      "                                                                                                  \n",
      " input_2 (InputLayer)           [(None, None)]       0           []                               \n",
      "                                                                                                  \n",
      " lstm_1 (LSTM)                  [(None, 60, 256),    525312      ['lstm[0][0]']                   \n",
      "                                 (None, 256),                                                     \n",
      "                                 (None, 256)]                                                     \n",
      "                                                                                                  \n",
      " embedding_1 (Embedding)        (None, None, 128)    1280000     ['input_2[0][0]']                \n",
      "                                                                                                  \n",
      " lstm_2 (LSTM)                  [(None, 60, 256),    525312      ['lstm_1[0][0]']                 \n",
      "                                 (None, 256),                                                     \n",
      "                                 (None, 256)]                                                     \n",
      "                                                                                                  \n",
      " lstm_3 (LSTM)                  [(None, None, 256),  394240      ['embedding_1[0][0]',            \n",
      "                                 (None, 256),                     'lstm_2[0][1]',                 \n",
      "                                 (None, 256)]                     'lstm_2[0][2]']                 \n",
      "                                                                                                  \n",
      " attention_layer (AdditiveAtten  (None, None, 256)   256         ['lstm_3[0][0]',                 \n",
      " tion)                                                            'lstm_2[0][0]']                 \n",
      "                                                                                                  \n",
      " concat_layer (Concatenate)     (None, None, 512)    0           ['lstm_3[0][0]',                 \n",
      "                                                                  'attention_layer[0][0]']        \n",
      "                                                                                                  \n",
      " dense_1 (Dense)                (None, None, 10000)  5130000     ['concat_layer[0][0]']           \n",
      "                                                                                                  \n",
      "==================================================================================================\n",
      "Total params: 10,809,360\n",
      "Trainable params: 10,809,360\n",
      "Non-trainable params: 0\n",
      "__________________________________________________________________________________________________\n"
     ]
    }
   ],
   "source": [
    "from tensorflow.keras.layers import AdditiveAttention\n",
    "\n",
    "# 어텐션 층(어텐션 함수)\n",
    "attn_layer = AdditiveAttention(name='attention_layer')\n",
    "\n",
    "# 인코더와 디코더의 모든 time step의 hidden state를 어텐션 층에 전달하고 결과를 리턴\n",
    "attn_out = attn_layer([decoder_outputs, encoder_output3])\n",
    "\n",
    "\n",
    "# 어텐션의 결과와 디코더의 hidden state들을 연결\n",
    "decoder_concat_input = Concatenate(axis=-1, name='concat_layer')([decoder_outputs, attn_out])\n",
    "\n",
    "# 디코더의 출력층\n",
    "decoder_softmax_layer = Dense(tar_vocab, activation='softmax')\n",
    "decoder_softmax_outputs = decoder_softmax_layer(decoder_concat_input)\n",
    "\n",
    "# 모델 정의\n",
    "model = Model([encoder_inputs, decoder_inputs], decoder_softmax_outputs)\n",
    "model.summary()"
   ]
  },
  {
   "cell_type": "code",
   "execution_count": 30,
   "id": "31bab868-9c1c-4b0c-8177-4ba211e0da07",
   "metadata": {},
   "outputs": [
    {
     "name": "stdout",
     "output_type": "stream",
     "text": [
      "Epoch 1/30\n",
      "308/308 [==============================] - 299s 940ms/step - loss: 4.2818 - val_loss: 3.9134\n",
      "Epoch 2/30\n",
      "308/308 [==============================] - 297s 964ms/step - loss: 3.7905 - val_loss: 3.6252\n",
      "Epoch 3/30\n",
      "308/308 [==============================] - 295s 958ms/step - loss: 3.5427 - val_loss: 3.4429\n",
      "Epoch 4/30\n",
      "308/308 [==============================] - 296s 963ms/step - loss: 3.3551 - val_loss: 3.2981\n",
      "Epoch 5/30\n",
      "308/308 [==============================] - 296s 959ms/step - loss: 3.2035 - val_loss: 3.1980\n",
      "Epoch 6/30\n",
      "308/308 [==============================] - 295s 959ms/step - loss: 3.0779 - val_loss: 3.1161\n",
      "Epoch 7/30\n",
      "308/308 [==============================] - 293s 953ms/step - loss: 2.9670 - val_loss: 3.0449\n",
      "Epoch 8/30\n",
      "308/308 [==============================] - 290s 942ms/step - loss: 2.8750 - val_loss: 2.9905\n",
      "Epoch 9/30\n",
      "308/308 [==============================] - 282s 915ms/step - loss: 2.7930 - val_loss: 2.9452\n",
      "Epoch 10/30\n",
      "308/308 [==============================] - 285s 926ms/step - loss: 2.7173 - val_loss: 2.9130\n",
      "Epoch 11/30\n",
      "308/308 [==============================] - 284s 922ms/step - loss: 2.6498 - val_loss: 2.8821\n",
      "Epoch 12/30\n",
      "308/308 [==============================] - 284s 922ms/step - loss: 2.5886 - val_loss: 2.8601\n",
      "Epoch 13/30\n",
      "308/308 [==============================] - 289s 938ms/step - loss: 2.5322 - val_loss: 2.8362\n",
      "Epoch 14/30\n",
      "308/308 [==============================] - 288s 935ms/step - loss: 2.4819 - val_loss: 2.8226\n",
      "Epoch 15/30\n",
      "308/308 [==============================] - 289s 938ms/step - loss: 2.4355 - val_loss: 2.8098\n",
      "Epoch 16/30\n",
      "308/308 [==============================] - 286s 929ms/step - loss: 2.3915 - val_loss: 2.7928\n",
      "Epoch 17/30\n",
      "308/308 [==============================] - 285s 926ms/step - loss: 2.3501 - val_loss: 2.7810\n",
      "Epoch 18/30\n",
      "308/308 [==============================] - 294s 955ms/step - loss: 2.3123 - val_loss: 2.7792\n",
      "Epoch 19/30\n",
      "308/308 [==============================] - 289s 939ms/step - loss: 2.2763 - val_loss: 2.7656\n",
      "Epoch 20/30\n",
      "308/308 [==============================] - 301s 977ms/step - loss: 2.2441 - val_loss: 2.7632\n",
      "Epoch 21/30\n",
      "308/308 [==============================] - 293s 951ms/step - loss: 2.2113 - val_loss: 2.7593\n",
      "Epoch 22/30\n",
      "308/308 [==============================] - 293s 950ms/step - loss: 2.1780 - val_loss: 2.7510\n",
      "Epoch 23/30\n",
      "308/308 [==============================] - 294s 955ms/step - loss: 2.1484 - val_loss: 2.7464\n",
      "Epoch 24/30\n",
      "308/308 [==============================] - 292s 950ms/step - loss: 2.1234 - val_loss: 2.7465\n",
      "Epoch 25/30\n",
      "308/308 [==============================] - 292s 947ms/step - loss: 2.0958 - val_loss: 2.7459\n",
      "Epoch 26/30\n",
      "308/308 [==============================] - 290s 942ms/step - loss: 2.0689 - val_loss: 2.7429\n",
      "Epoch 27/30\n",
      "308/308 [==============================] - 290s 941ms/step - loss: 2.0465 - val_loss: 2.7451\n",
      "Epoch 28/30\n",
      "308/308 [==============================] - 295s 959ms/step - loss: 2.0233 - val_loss: 2.7425\n",
      "Epoch 29/30\n",
      "308/308 [==============================] - 291s 946ms/step - loss: 1.9990 - val_loss: 2.7474\n",
      "Epoch 30/30\n",
      "308/308 [==============================] - 290s 942ms/step - loss: 1.9779 - val_loss: 2.7438\n",
      "Epoch 30: early stopping\n"
     ]
    }
   ],
   "source": [
    "model.compile(optimizer='rmsprop', loss='sparse_categorical_crossentropy')\n",
    "es = EarlyStopping(monitor='val_loss', patience=2, verbose=1)\n",
    "history = model.fit(x=[encoder_input_train, decoder_input_train], y=decoder_target_train, \\\n",
    "          validation_data=([encoder_input_test, decoder_input_test], decoder_target_test), \\\n",
    "          batch_size=256, callbacks=[es], epochs=30)"
   ]
  },
  {
   "cell_type": "code",
   "execution_count": 31,
   "id": "6ff70064-ff12-442d-87e2-221cd7df41d3",
   "metadata": {},
   "outputs": [
    {
     "data": {
      "image/png": "[encoded data removed]",
      "text/plain": [
       "<Figure size 640x480 with 1 Axes>"
      ]
     },
     "metadata": {},
     "output_type": "display_data"
    }
   ],
   "source": [
    "plt.plot(history.history['loss'], label='train')\n",
    "plt.plot(history.history['val_loss'], label='test')\n",
    "plt.legend()\n",
    "plt.show()"
   ]
  },
  {
   "cell_type": "code",
   "execution_count": 32,
   "id": "86e67c74-73ce-42d0-857e-4e8c5c9e5536",
   "metadata": {},
   "outputs": [
    {
     "name": "stdout",
     "output_type": "stream",
     "text": [
      "=3\n"
     ]
    }
   ],
   "source": [
    "src_index_to_word = src_tokenizer.index_word # 원문 단어 집합에서 정수 -> 단어를 얻음\n",
    "tar_word_to_index = tar_tokenizer.word_index # 요약 단어 집합에서 단어 -> 정수를 얻음\n",
    "tar_index_to_word = tar_tokenizer.index_word # 요약 단어 집합에서 정수 -> 단어를 얻음\n",
    "\n",
    "print('=3')"
   ]
  },
  {
   "cell_type": "code",
   "execution_count": 34,
   "id": "513e9775-5a8a-4dee-85fb-44ba40884b2f",
   "metadata": {},
   "outputs": [
    {
     "name": "stdout",
     "output_type": "stream",
     "text": [
      "=3\n"
     ]
    }
   ],
   "source": [
    "# 인코더 설계\n",
    "encoder_model = Model(inputs=encoder_inputs, outputs=[encoder_output3, state_h3, state_c3])\n",
    "\n",
    "# 이전 시점의 상태들을 저장하는 텐서\n",
    "decoder_state_input_h = Input(shape=(hidden_size,))\n",
    "decoder_state_input_c = Input(shape=(hidden_size,))\n",
    "\n",
    "dec_emb2 = dec_emb_layer(decoder_inputs)\n",
    "\n",
    "# 문장의 다음 단어를 예측하기 위해서 초기 상태(initial_state)를 이전 시점의 상태로 사용. 이는 뒤의 함수 decode_sequence()에 구현\n",
    "# 훈련 과정에서와 달리 LSTM의 리턴하는 은닉 상태와 셀 상태인 state_h와 state_c를 버리지 않음.\n",
    "decoder_outputs2, state_h2, state_c2 = decoder_lstm(dec_emb2, initial_state=[decoder_state_input_h, decoder_state_input_c])\n",
    "\n",
    "print('=3')"
   ]
  },
  {
   "cell_type": "code",
   "execution_count": 35,
   "id": "aeea4a19-0ce9-4a9e-a371-f0bdb1a098f8",
   "metadata": {},
   "outputs": [
    {
     "name": "stdout",
     "output_type": "stream",
     "text": [
      "=3\n"
     ]
    }
   ],
   "source": [
    "# 어텐션 함수\n",
    "decoder_hidden_state_input = Input(shape=(text_max_len, hidden_size))\n",
    "attn_out_inf = attn_layer([decoder_outputs2, decoder_hidden_state_input])\n",
    "decoder_inf_concat = Concatenate(axis=-1, name='concat')([decoder_outputs2, attn_out_inf])\n",
    "\n",
    "# 디코더의 출력층\n",
    "decoder_outputs2 = decoder_softmax_layer(decoder_inf_concat) \n",
    "\n",
    "# 최종 디코더 모델\n",
    "decoder_model = Model(\n",
    "    [decoder_inputs] + [decoder_hidden_state_input,decoder_state_input_h, decoder_state_input_c],\n",
    "    [decoder_outputs2] + [state_h2, state_c2])\n",
    "\n",
    "print('=3')"
   ]
  },
  {
   "cell_type": "code",
   "execution_count": 36,
   "id": "45d9cac0-0eed-4cf4-8969-f130d0c68204",
   "metadata": {},
   "outputs": [
    {
     "name": "stdout",
     "output_type": "stream",
     "text": [
      "=3\n"
     ]
    }
   ],
   "source": [
    "def decode_sequence(input_seq):\n",
    "    # 입력으로부터 인코더의 상태를 얻음\n",
    "    e_out, e_h, e_c = encoder_model.predict(input_seq)\n",
    "\n",
    "     # <SOS>에 해당하는 토큰 생성\n",
    "    target_seq = np.zeros((1,1))\n",
    "    target_seq[0, 0] = tar_word_to_index['sostoken']\n",
    "\n",
    "    stop_condition = False\n",
    "    decoded_sentence = ''\n",
    "    while not stop_condition: # stop_condition이 True가 될 때까지 루프 반복\n",
    "\n",
    "        output_tokens, h, c = decoder_model.predict([target_seq] + [e_out, e_h, e_c])\n",
    "        sampled_token_index = np.argmax(output_tokens[0, -1, :])\n",
    "        sampled_token = tar_index_to_word[sampled_token_index]\n",
    "\n",
    "        if (sampled_token!='eostoken'):\n",
    "            decoded_sentence += ' '+sampled_token\n",
    "\n",
    "        #  <eos>에 도달하거나 최대 길이를 넘으면 중단.\n",
    "        if (sampled_token == 'eostoken'  or len(decoded_sentence.split()) >= (summary_max_len-1)):\n",
    "            stop_condition = True\n",
    "\n",
    "        # 길이가 1인 타겟 시퀀스를 업데이트\n",
    "        target_seq = np.zeros((1,1))\n",
    "        target_seq[0, 0] = sampled_token_index\n",
    "\n",
    "        # 상태를 업데이트 합니다.\n",
    "        e_h, e_c = h, c\n",
    "\n",
    "    return decoded_sentence\n",
    "print('=3')"
   ]
  },
  {
   "cell_type": "code",
   "execution_count": 37,
   "id": "d53c8ccb-6e31-4613-b7be-7002b3433850",
   "metadata": {},
   "outputs": [
    {
     "name": "stdout",
     "output_type": "stream",
     "text": [
      "=3\n"
     ]
    }
   ],
   "source": [
    "# 원문의 정수 시퀀스를 텍스트 시퀀스로 변환\n",
    "start_tok = 1\n",
    "end_tok = 2\n",
    "\n",
    "def seq2text(input_seq):\n",
    "    temp=''\n",
    "    for i in input_seq:\n",
    "        if (i!=0):\n",
    "            temp = temp + src_index_to_word[i]+' '\n",
    "    return temp\n",
    "\n",
    "# 요약문의 정수 시퀀스를 텍스트 시퀀스로 변환\n",
    "def seq2summary(input_seq):\n",
    "    temp = ''\n",
    "    for i in input_seq:\n",
    "        # Assuming 'start_tok' and 'end_tok' are the start and end token indices.\n",
    "        if (i != 0 and i != start_tok and i != end_tok):\n",
    "            temp = temp + tar_index_to_word[i] + ' '\n",
    "    return temp\n",
    "\n",
    "print('=3')"
   ]
  },
  {
   "cell_type": "code",
   "execution_count": 38,
   "id": "c702991f-a83b-434d-a7ff-67cfb52a884c",
   "metadata": {},
   "outputs": [
    {
     "name": "stdout",
     "output_type": "stream",
     "text": [
      "원문 : cbi investigation revealed christian michel alleged middleman agustawestland vvip chopper deal borne foreign travel expenses worth lakh serving retired indian air force officials michel produced delhi court saturday five day cbi remand ended following agency granted four days additional custody \n",
      "실제 요약 : michel paid lakh for foreign trips of iaf officials cbi \n",
      "1/1 [==============================] - 1s 611ms/step\n",
      "1/1 [==============================] - 0s 336ms/step\n",
      "1/1 [==============================] - 0s 25ms/step\n",
      "1/1 [==============================] - 0s 21ms/step\n",
      "1/1 [==============================] - 0s 21ms/step\n",
      "1/1 [==============================] - 0s 20ms/step\n",
      "1/1 [==============================] - 0s 20ms/step\n",
      "1/1 [==============================] - 0s 20ms/step\n",
      "1/1 [==============================] - 0s 20ms/step\n",
      "1/1 [==============================] - 0s 21ms/step\n",
      "예측 요약 :  cbi books mea for crore in corruption case\n",
      "\n",
      "\n",
      "원문 : real estate tycoon hui ka yan topped forbes list china richest first time fortune billion added billion twice gainer led increase share price company china evergrande group followed tencent alibaba jack \n",
      "실제 요약 : ka tops forbes china rich list for first time \n",
      "1/1 [==============================] - 0s 91ms/step\n",
      "1/1 [==============================] - 0s 20ms/step\n",
      "1/1 [==============================] - 0s 20ms/step\n",
      "1/1 [==============================] - 0s 19ms/step\n",
      "1/1 [==============================] - 0s 20ms/step\n",
      "1/1 [==============================] - 0s 20ms/step\n",
      "1/1 [==============================] - 0s 27ms/step\n",
      "1/1 [==============================] - 0s 23ms/step\n",
      "1/1 [==============================] - 0s 21ms/step\n",
      "예측 요약 :  world richest man becomes world richest families\n",
      "\n",
      "\n",
      "원문 : toronto district school board unanimously adopted motion recognising november hindu heritage month city board third largest north america covers schools move proposed board trustee whose father sri lankan origin mother india \n",
      "실제 요약 : schools in canadian city to observe hindu heritage month \n",
      "1/1 [==============================] - 0s 97ms/step\n",
      "1/1 [==============================] - 0s 18ms/step\n",
      "1/1 [==============================] - 0s 18ms/step\n",
      "1/1 [==============================] - 0s 20ms/step\n",
      "1/1 [==============================] - 0s 20ms/step\n",
      "1/1 [==============================] - 0s 21ms/step\n",
      "예측 요약 :  protesters protest against for\n",
      "\n",
      "\n",
      "원문 : former indian cricketer sunil gavaskar said absence steve smith david warner australian team india fault australian cricket board could handed shorter bans duo thought one year bans would good australian cricket needed made example gavaskar added \n",
      "실제 요약 : absence of smith and warner not india fault sunil gavaskar \n",
      "1/1 [==============================] - 0s 93ms/step\n",
      "1/1 [==============================] - 0s 19ms/step\n",
      "1/1 [==============================] - 0s 19ms/step\n",
      "1/1 [==============================] - 0s 20ms/step\n",
      "1/1 [==============================] - 0s 20ms/step\n",
      "1/1 [==============================] - 0s 20ms/step\n",
      "1/1 [==============================] - 0s 19ms/step\n",
      "1/1 [==============================] - 0s 19ms/step\n",
      "1/1 [==============================] - 0s 20ms/step\n",
      "1/1 [==============================] - 0s 20ms/step\n",
      "1/1 [==============================] - 0s 20ms/step\n",
      "1/1 [==============================] - 0s 21ms/step\n",
      "예측 요약 :  smith should be allowed to be ganguly on ball tampering\n",
      "\n",
      "\n",
      "원문 : addressing indian workers dubai friday congress president rahul gandhi said listen workers tell mann ki baat rahul apparently said reference pm narendra modi radio broadcast mann ki baat stand made indians every religion state caste proud rahul added \n",
      "실제 요약 : here to listen not speak my mann ki baat rahul in dubai \n",
      "1/1 [==============================] - 0s 88ms/step\n",
      "1/1 [==============================] - 0s 20ms/step\n",
      "1/1 [==============================] - 0s 18ms/step\n",
      "1/1 [==============================] - 0s 19ms/step\n",
      "1/1 [==============================] - 0s 22ms/step\n",
      "1/1 [==============================] - 0s 20ms/step\n",
      "1/1 [==============================] - 0s 19ms/step\n",
      "1/1 [==============================] - 0s 20ms/step\n",
      "1/1 [==============================] - 0s 20ms/step\n",
      "1/1 [==============================] - 0s 20ms/step\n",
      "1/1 [==============================] - 0s 21ms/step\n",
      "예측 요약 :  pm modi is like mann ki baat rahul gandhi\n",
      "\n",
      "\n",
      "원문 : least patients died absence medical attention around surgeries postponed government run patna medical college hospital bihar junior doctors went strike monday protesting doctors demanding better security arrangements attendants patient beaten one colleagues following suffered internal injuries \n",
      "실제 요약 : patients dead as doctors in bihar hospital go on strike \n",
      "1/1 [==============================] - 0s 85ms/step\n",
      "1/1 [==============================] - 0s 20ms/step\n",
      "1/1 [==============================] - 0s 20ms/step\n",
      "1/1 [==============================] - 0s 21ms/step\n",
      "1/1 [==============================] - 0s 20ms/step\n",
      "1/1 [==============================] - 0s 21ms/step\n",
      "1/1 [==============================] - 0s 20ms/step\n",
      "1/1 [==============================] - 0s 20ms/step\n",
      "1/1 [==============================] - 0s 19ms/step\n",
      "1/1 [==============================] - 0s 20ms/step\n",
      "1/1 [==============================] - 0s 20ms/step\n",
      "1/1 [==============================] - 0s 20ms/step\n",
      "예측 요약 :  doctors die in gorakhpur hospital due to lack of oxygen\n",
      "\n",
      "\n",
      "원문 : facebook owned messaging platform whatsapp launched new feature lets users watch videos use app video links sent message open window dragged anywhere across display mode called picture picture support video platforms youtube instagram facebook \n",
      "실제 요약 : whatsapp launches feature to watch videos while using app \n",
      "1/1 [==============================] - 0s 86ms/step\n",
      "1/1 [==============================] - 0s 19ms/step\n",
      "1/1 [==============================] - 0s 19ms/step\n",
      "1/1 [==============================] - 0s 19ms/step\n",
      "1/1 [==============================] - 0s 20ms/step\n",
      "1/1 [==============================] - 0s 20ms/step\n",
      "1/1 [==============================] - 0s 19ms/step\n",
      "1/1 [==============================] - 0s 20ms/step\n",
      "1/1 [==============================] - 0s 19ms/step\n",
      "1/1 [==============================] - 0s 20ms/step\n",
      "1/1 [==============================] - 0s 20ms/step\n",
      "1/1 [==============================] - 0s 19ms/step\n",
      "예측 요약 :  whatsapp to launch app to let users track photos photos\n",
      "\n",
      "\n",
      "원문 : nasa astronaut randy bresnik photographed amazon river flowing brazil international space station water beautiful seen watching amazon river dances across brazil bresnik tweeted bresnik stationed amongst six member crew including astronaut peggy whitson holds records oldest woman total spacewalks woman \n",
      "실제 요약 : astronaut photographs the amazon river from space \n",
      "1/1 [==============================] - 0s 92ms/step\n",
      "1/1 [==============================] - 0s 18ms/step\n",
      "1/1 [==============================] - 0s 20ms/step\n",
      "1/1 [==============================] - 0s 19ms/step\n",
      "1/1 [==============================] - 0s 20ms/step\n",
      "1/1 [==============================] - 0s 20ms/step\n",
      "1/1 [==============================] - 0s 19ms/step\n",
      "1/1 [==============================] - 0s 20ms/step\n",
      "1/1 [==============================] - 0s 18ms/step\n",
      "1/1 [==============================] - 0s 19ms/step\n",
      "1/1 [==============================] - 0s 20ms/step\n",
      "예측 요약 :  musk shares first robot of space from space station\n",
      "\n",
      "\n",
      "원문 : recalling getting sweeping test new zealand ex australia leg spinner shane warne said still genuinely asks go single adding silence dressing room warne said walked straight shower area lit cigarette beer went idiot everyone started laughing \n",
      "실제 요약 : had beer cigarette went you idiot warne on getting out at \n",
      "1/1 [==============================] - 0s 85ms/step\n",
      "1/1 [==============================] - 0s 20ms/step\n",
      "1/1 [==============================] - 0s 21ms/step\n",
      "1/1 [==============================] - 0s 20ms/step\n",
      "1/1 [==============================] - 0s 20ms/step\n",
      "1/1 [==============================] - 0s 20ms/step\n",
      "1/1 [==============================] - 0s 20ms/step\n",
      "1/1 [==============================] - 0s 19ms/step\n",
      "1/1 [==============================] - 0s 20ms/step\n",
      "1/1 [==============================] - 0s 20ms/step\n",
      "예측 요약 :  smith is the australian spinner of australian spinner\n",
      "\n",
      "\n",
      "원문 : least people killed others injured wednesday two suicide bombers blew northern near nigerian border according officials group claimed responsibility attack region frequent target boko haram militants recent years \n",
      "실제 요약 : killed injured in twin bombing \n",
      "1/1 [==============================] - 0s 86ms/step\n",
      "1/1 [==============================] - 0s 21ms/step\n",
      "1/1 [==============================] - 0s 20ms/step\n",
      "1/1 [==============================] - 0s 20ms/step\n",
      "1/1 [==============================] - 0s 19ms/step\n",
      "1/1 [==============================] - 0s 19ms/step\n",
      "1/1 [==============================] - 0s 20ms/step\n",
      "1/1 [==============================] - 0s 20ms/step\n",
      "1/1 [==============================] - 0s 20ms/step\n",
      "예측 요약 :  killed injured in suicide bombing in nigeria\n",
      "\n",
      "\n",
      "원문 : filmmaker anurag basu addressing people like jagga jasoos said rejection pave way next film promise try disappoint added basu also thanked fans liked film tweeted thank much ur love appreciation like oxygen right \n",
      "실제 요약 : rejection way for my next film basu on jagga jasoos \n",
      "1/1 [==============================] - 0s 84ms/step\n",
      "1/1 [==============================] - 0s 19ms/step\n",
      "1/1 [==============================] - 0s 19ms/step\n",
      "1/1 [==============================] - 0s 20ms/step\n",
      "1/1 [==============================] - 0s 19ms/step\n",
      "1/1 [==============================] - 0s 21ms/step\n",
      "1/1 [==============================] - 0s 20ms/step\n",
      "1/1 [==============================] - 0s 20ms/step\n",
      "1/1 [==============================] - 0s 20ms/step\n",
      "1/1 [==============================] - 0s 19ms/step\n",
      "1/1 [==============================] - 0s 19ms/step\n",
      "1/1 [==============================] - 0s 20ms/step\n",
      "예측 요약 :  film is an actor to make film with anurag kashyap\n",
      "\n",
      "\n",
      "원문 : tv actor siddharth shukla known role arrested rash driving bmw hit three cars divider mumbai saturday injuring three people accident year old actor reportedly involved road accident back well later paying penalty \n",
      "실제 요약 : actor arrested as his bmw hits cars out \n",
      "1/1 [==============================] - 0s 85ms/step\n",
      "1/1 [==============================] - 0s 19ms/step\n",
      "1/1 [==============================] - 0s 20ms/step\n",
      "1/1 [==============================] - 0s 19ms/step\n",
      "1/1 [==============================] - 0s 20ms/step\n",
      "1/1 [==============================] - 0s 19ms/step\n",
      "1/1 [==============================] - 0s 21ms/step\n",
      "1/1 [==============================] - 0s 20ms/step\n",
      "1/1 [==============================] - 0s 20ms/step\n",
      "1/1 [==============================] - 0s 21ms/step\n",
      "1/1 [==============================] - 0s 20ms/step\n",
      "예측 요약 :  kannada actor arrested for car with car in car\n",
      "\n",
      "\n",
      "원문 : recently submitted page chargesheet people journalist gauri lankesh murder case sit stated planning kill lankesh took place almost five years report also mentioned network within hindu outfit sanatan targeted lankesh personal reasons lankesh shot dead front house last year \n",
      "실제 요약 : planning to kill journo gauri lankesh took place for years sit \n",
      "1/1 [==============================] - 0s 87ms/step\n",
      "1/1 [==============================] - 0s 20ms/step\n",
      "1/1 [==============================] - 0s 20ms/step\n",
      "1/1 [==============================] - 0s 20ms/step\n",
      "1/1 [==============================] - 0s 20ms/step\n",
      "1/1 [==============================] - 0s 21ms/step\n",
      "1/1 [==============================] - 0s 20ms/step\n",
      "1/1 [==============================] - 0s 20ms/step\n",
      "1/1 [==============================] - 0s 20ms/step\n",
      "예측 요약 :  gauri lankesh murder accused of lankesh murder\n",
      "\n",
      "\n",
      "원문 : royal challengers bangalore captain virat kohli fined lakh maintaining slow rate team match chennai super kings bengaluru wednesday match csk successfully chased run target thereby registering joint highest successful chase notably game witnessed combined sixes ipl match \n",
      "실제 요약 : rcb captain virat kohli fined lakh for slow over rate \n",
      "1/1 [==============================] - 0s 87ms/step\n",
      "1/1 [==============================] - 0s 20ms/step\n",
      "1/1 [==============================] - 0s 21ms/step\n",
      "1/1 [==============================] - 0s 19ms/step\n",
      "1/1 [==============================] - 0s 20ms/step\n",
      "1/1 [==============================] - 0s 20ms/step\n",
      "1/1 [==============================] - 0s 21ms/step\n",
      "1/1 [==============================] - 0s 21ms/step\n",
      "1/1 [==============================] - 0s 20ms/step\n",
      "1/1 [==============================] - 0s 21ms/step\n",
      "1/1 [==============================] - 0s 19ms/step\n",
      "1/1 [==============================] - 0s 19ms/step\n",
      "예측 요약 :  kohli slams kohli for ipl after hitting six in ipl\n",
      "\n",
      "\n",
      "원문 : google parent alphabet self driving unit waymo set subsidiary named business consulting shanghai china waymo set unit may shanghai free trade zone registered capital million yuan comes amidst google efforts build presence country quit china search engine market \n",
      "실제 요약 : google parent opens waymo office in china despite site ban \n",
      "1/1 [==============================] - 0s 86ms/step\n",
      "1/1 [==============================] - 0s 19ms/step\n",
      "1/1 [==============================] - 0s 20ms/step\n",
      "1/1 [==============================] - 0s 20ms/step\n",
      "1/1 [==============================] - 0s 19ms/step\n",
      "1/1 [==============================] - 0s 22ms/step\n",
      "1/1 [==============================] - 0s 20ms/step\n",
      "1/1 [==============================] - 0s 24ms/step\n",
      "1/1 [==============================] - 0s 19ms/step\n",
      "1/1 [==============================] - 0s 20ms/step\n",
      "예측 요약 :  google parent alphabet to get bike driving engine\n",
      "\n",
      "\n",
      "원문 : protesting maharashtra government decision announce farm loan waivers state budget saturday opposition mlas burnt copies budget outside legislature several members tried disrupt budget presentation assembly leader opposition radhakrishna patil called state government decision announce loan waiver \n",
      "실제 요약 : opposition mlas burn budget copies in maharashtra \n",
      "1/1 [==============================] - 0s 87ms/step\n",
      "1/1 [==============================] - 0s 21ms/step\n",
      "1/1 [==============================] - 0s 20ms/step\n",
      "1/1 [==============================] - 0s 22ms/step\n",
      "1/1 [==============================] - 0s 22ms/step\n",
      "1/1 [==============================] - 0s 20ms/step\n",
      "1/1 [==============================] - 0s 21ms/step\n",
      "1/1 [==============================] - 0s 19ms/step\n",
      "1/1 [==============================] - 0s 19ms/step\n",
      "1/1 [==============================] - 0s 21ms/step\n",
      "예측 요약 :  maha govt approves loan waiver for small farmers\n",
      "\n",
      "\n",
      "원문 : chinese company fun developed self balancing suitcase called puppy follows user around suitcase either constantly follow person around summoned easily setting auto following mode remote control suitcase developed partnership two wheel scooter maker \n",
      "실제 요약 : self suitcase that follows user developed \n",
      "1/1 [==============================] - 0s 88ms/step\n",
      "1/1 [==============================] - 0s 20ms/step\n",
      "1/1 [==============================] - 0s 21ms/step\n",
      "1/1 [==============================] - 0s 21ms/step\n",
      "1/1 [==============================] - 0s 20ms/step\n",
      "1/1 [==============================] - 0s 21ms/step\n",
      "1/1 [==============================] - 0s 20ms/step\n",
      "1/1 [==============================] - 0s 21ms/step\n",
      "1/1 [==============================] - 0s 19ms/step\n",
      "예측 요약 :  startup develops device to monitor user sleep\n",
      "\n",
      "\n",
      "원문 : ajay devgn said kajol strict one children nysa yug one gives whatever want ajay added get come complain give said however might draws lines \n",
      "실제 요약 : kajol is strict one give kids whatever they want ajay \n",
      "1/1 [==============================] - 0s 117ms/step\n",
      "1/1 [==============================] - 0s 20ms/step\n",
      "1/1 [==============================] - 0s 20ms/step\n",
      "1/1 [==============================] - 0s 21ms/step\n",
      "1/1 [==============================] - 0s 21ms/step\n",
      "1/1 [==============================] - 0s 20ms/step\n",
      "1/1 [==============================] - 0s 20ms/step\n",
      "1/1 [==============================] - 0s 21ms/step\n",
      "1/1 [==============================] - 0s 20ms/step\n",
      "1/1 [==============================] - 0s 20ms/step\n",
      "예측 요약 :  kajol should not be in my film kajol\n",
      "\n",
      "\n",
      "원문 : unnao rape case survivor said accused bjp mla kuldeep singh sengar hanged uncles used say good met wrong added mla arrested cbi friday based allahabad high court orders \n",
      "실제 요약 : hang accused mla says unnao rape case survivor \n",
      "1/1 [==============================] - 0s 86ms/step\n",
      "1/1 [==============================] - 0s 19ms/step\n",
      "1/1 [==============================] - 0s 19ms/step\n",
      "1/1 [==============================] - 0s 19ms/step\n",
      "1/1 [==============================] - 0s 19ms/step\n",
      "1/1 [==============================] - 0s 19ms/step\n",
      "1/1 [==============================] - 0s 22ms/step\n",
      "1/1 [==============================] - 0s 21ms/step\n",
      "1/1 [==============================] - 0s 21ms/step\n",
      "1/1 [==============================] - 0s 20ms/step\n",
      "1/1 [==============================] - 0s 19ms/step\n",
      "1/1 [==============================] - 0s 19ms/step\n",
      "예측 요약 :  mla who said he is rape victim will be mla\n",
      "\n",
      "\n",
      "원문 : delhi chief minister arvind kejriwal monday asserted election commission become motive help son win elections ec motive conduct elections ensure bjp victory said alleged evms used recent rajasthan poll tampered help bjp win \n",
      "실제 요약 : ec wants bjp to win kejriwal \n",
      "1/1 [==============================] - 0s 85ms/step\n",
      "1/1 [==============================] - 0s 19ms/step\n",
      "1/1 [==============================] - 0s 20ms/step\n",
      "1/1 [==============================] - 0s 21ms/step\n",
      "1/1 [==============================] - 0s 21ms/step\n",
      "1/1 [==============================] - 0s 20ms/step\n",
      "1/1 [==============================] - 0s 19ms/step\n",
      "1/1 [==============================] - 0s 20ms/step\n",
      "1/1 [==============================] - 0s 20ms/step\n",
      "예측 요약 :  kejriwal gives to contest polls in polls\n",
      "\n",
      "\n",
      "원문 : italian professor legal battle granted sick pay two day leave took care unwell dog first instance italy lawyers mentioned law stating people abandon animal grave suffering face one year prison fine \n",
      "실제 요약 : italy court grants woman paid sick leave to care for ill dog \n",
      "1/1 [==============================] - 0s 116ms/step\n",
      "1/1 [==============================] - 0s 19ms/step\n",
      "1/1 [==============================] - 0s 20ms/step\n",
      "1/1 [==============================] - 0s 19ms/step\n",
      "1/1 [==============================] - 0s 19ms/step\n",
      "1/1 [==============================] - 0s 19ms/step\n",
      "1/1 [==============================] - 0s 20ms/step\n",
      "1/1 [==============================] - 0s 19ms/step\n",
      "1/1 [==============================] - 0s 21ms/step\n",
      "1/1 [==============================] - 0s 20ms/step\n",
      "예측 요약 :  uk woman faces month jail for running babies\n",
      "\n",
      "\n",
      "원문 : earnings crore baaghi entered crore club within six days release baaghi third film cross crore mark far two films padmaavat sonu ke titu ki sweety film also beat padmaavat become highest opener \n",
      "실제 요약 : baaghi enters crore club within days of release \n",
      "1/1 [==============================] - 0s 83ms/step\n",
      "1/1 [==============================] - 0s 20ms/step\n",
      "1/1 [==============================] - 0s 19ms/step\n",
      "1/1 [==============================] - 0s 22ms/step\n",
      "1/1 [==============================] - 0s 21ms/step\n",
      "1/1 [==============================] - 0s 21ms/step\n",
      "1/1 [==============================] - 0s 20ms/step\n",
      "1/1 [==============================] - 0s 20ms/step\n",
      "1/1 [==============================] - 0s 20ms/step\n",
      "1/1 [==============================] - 0s 20ms/step\n",
      "1/1 [==============================] - 0s 19ms/step\n",
      "1/1 [==============================] - 0s 19ms/step\n",
      "예측 요약 :  tiger zinda hai earns cr club within days of release\n",
      "\n",
      "\n",
      "원문 : us france called new nuclear deal iran russia wednesday said alternative existing deal calling deal successful work russian president vladimir putin spokesman dmitry peskov added iran views matter iranian president hassan rouhani slammed us demands new deal \n",
      "실제 요약 : no alternative to iran nuclear deal russia \n",
      "1/1 [==============================] - 0s 85ms/step\n",
      "1/1 [==============================] - 0s 19ms/step\n",
      "1/1 [==============================] - 0s 20ms/step\n",
      "1/1 [==============================] - 0s 20ms/step\n",
      "1/1 [==============================] - 0s 21ms/step\n",
      "1/1 [==============================] - 0s 20ms/step\n",
      "1/1 [==============================] - 0s 20ms/step\n",
      "1/1 [==============================] - 0s 19ms/step\n",
      "1/1 [==============================] - 0s 21ms/step\n",
      "1/1 [==============================] - 0s 19ms/step\n",
      "1/1 [==============================] - 0s 21ms/step\n",
      "예측 요약 :  us nuclear deal cannot be us on iran deal\n",
      "\n",
      "\n",
      "원문 : sweden admitted traditional dish swedish actually turkish swedish actually based recipe king charles xii brought home turkey early th century country official twitter account wrote king charles xii began ruling sweden lived around present day turkey nearly six years exile \n",
      "실제 요약 : sweden admits its traditional dish is actually turkish \n",
      "1/1 [==============================] - 0s 85ms/step\n",
      "1/1 [==============================] - 0s 19ms/step\n",
      "1/1 [==============================] - 0s 20ms/step\n",
      "1/1 [==============================] - 0s 20ms/step\n",
      "1/1 [==============================] - 0s 21ms/step\n",
      "1/1 [==============================] - 0s 19ms/step\n",
      "1/1 [==============================] - 0s 19ms/step\n",
      "1/1 [==============================] - 0s 19ms/step\n",
      "1/1 [==============================] - 0s 19ms/step\n",
      "예측 요약 :  new york species hacked to hitler era\n",
      "\n",
      "\n",
      "원문 : shah rukh khan wife gauri khan recently debuted fortune india powerful women list sharing gauri tweet posted pictures fortune india powerful women business event shah rukh wrote family list fortunate powerful gauri designed room nita mukesh ambani antilia \n",
      "실제 요약 : gauri among fortune india most powerful women in business \n",
      "1/1 [==============================] - 0s 84ms/step\n",
      "1/1 [==============================] - 0s 19ms/step\n",
      "1/1 [==============================] - 0s 21ms/step\n",
      "1/1 [==============================] - 0s 20ms/step\n",
      "1/1 [==============================] - 0s 19ms/step\n",
      "1/1 [==============================] - 0s 22ms/step\n",
      "1/1 [==============================] - 0s 19ms/step\n",
      "1/1 [==============================] - 0s 20ms/step\n",
      "1/1 [==============================] - 0s 20ms/step\n",
      "1/1 [==============================] - 0s 20ms/step\n",
      "1/1 [==============================] - 0s 21ms/step\n",
      "예측 요약 :  srk suhana suhana abram on abram cover of women\n",
      "\n",
      "\n",
      "원문 : first petrol powered automobile built german engineer carl benz first driven around public july germany two seater single cylinder four stroke engine installed rear started manually rotating circular steel frame twenty five production version units motor car sold \n",
      "실제 요약 : years since st petrol powered car was driven in public \n",
      "1/1 [==============================] - 0s 87ms/step\n",
      "1/1 [==============================] - 0s 21ms/step\n",
      "1/1 [==============================] - 0s 20ms/step\n",
      "1/1 [==============================] - 0s 20ms/step\n",
      "1/1 [==============================] - 0s 20ms/step\n",
      "1/1 [==============================] - 0s 22ms/step\n",
      "1/1 [==============================] - 0s 22ms/step\n",
      "1/1 [==============================] - 0s 20ms/step\n",
      "1/1 [==============================] - 0s 19ms/step\n",
      "1/1 [==============================] - 0s 22ms/step\n",
      "예측 요약 :  first ever world first night in the electric\n",
      "\n",
      "\n",
      "원문 : taiwanese electronics company unveiled world thinnest convertible laptop flip mm costs inch laptop features degree hinge fingerprint security sensor display runs windows weighs kg lighter competing hp apple laptops \n",
      "실제 요약 : unveils world laptop for \n",
      "1/1 [==============================] - 0s 85ms/step\n",
      "1/1 [==============================] - 0s 19ms/step\n",
      "1/1 [==============================] - 0s 22ms/step\n",
      "1/1 [==============================] - 0s 19ms/step\n",
      "1/1 [==============================] - 0s 22ms/step\n",
      "1/1 [==============================] - 0s 22ms/step\n",
      "1/1 [==============================] - 0s 21ms/step\n",
      "1/1 [==============================] - 0s 20ms/step\n",
      "예측 요약 :  world smallest laptop can display laptop\n",
      "\n",
      "\n",
      "원문 : last date file income tax returns assessment year today depending delay filing due date could invite penalty fixed individual income lakh returns attract simple interest per month outstanding due \n",
      "실제 요약 : what happens if you miss tax return filing deadline today \n",
      "1/1 [==============================] - 0s 85ms/step\n",
      "1/1 [==============================] - 0s 19ms/step\n",
      "1/1 [==============================] - 0s 20ms/step\n",
      "1/1 [==============================] - 0s 19ms/step\n",
      "1/1 [==============================] - 0s 20ms/step\n",
      "1/1 [==============================] - 0s 20ms/step\n",
      "1/1 [==============================] - 0s 20ms/step\n",
      "1/1 [==============================] - 0s 21ms/step\n",
      "예측 요약 :  filing returns to filing returns returns\n",
      "\n",
      "\n",
      "원문 : unidentified woman accusing filmmaker subhash ghai sexual harassment alleged spiked drink took hotel suite took jeans mounted trying scream put hand mouth said woman added resigned job week later \n",
      "실제 요약 : subhash ghai drugged me took off my jeans alleges woman \n",
      "1/1 [==============================] - 0s 85ms/step\n",
      "1/1 [==============================] - 0s 19ms/step\n",
      "1/1 [==============================] - 0s 20ms/step\n",
      "1/1 [==============================] - 0s 21ms/step\n",
      "1/1 [==============================] - 0s 19ms/step\n",
      "1/1 [==============================] - 0s 20ms/step\n",
      "1/1 [==============================] - 0s 20ms/step\n",
      "1/1 [==============================] - 0s 21ms/step\n",
      "1/1 [==============================] - 0s 20ms/step\n",
      "예측 요약 :  woman alleges harassment by her in her\n",
      "\n",
      "\n",
      "원문 : delhi police issued look circular ashish pandey son former bsp mp rakesh pandey pulled gun fight outside five star hotel capital meanwhile bsp leader called proper investigation clarifying accused neither member leader party \n",
      "실제 요약 : notice against man who pulled out gun at delhi hotel \n",
      "1/1 [==============================] - 0s 90ms/step\n",
      "1/1 [==============================] - 0s 20ms/step\n",
      "1/1 [==============================] - 0s 20ms/step\n",
      "1/1 [==============================] - 0s 20ms/step\n",
      "1/1 [==============================] - 0s 19ms/step\n",
      "1/1 [==============================] - 0s 21ms/step\n",
      "1/1 [==============================] - 0s 20ms/step\n",
      "1/1 [==============================] - 0s 20ms/step\n",
      "1/1 [==============================] - 0s 20ms/step\n",
      "1/1 [==============================] - 0s 20ms/step\n",
      "1/1 [==============================] - 0s 23ms/step\n",
      "1/1 [==============================] - 0s 19ms/step\n",
      "예측 요약 :  delhi bjp leader son threatens to fight hotel with hotel\n",
      "\n",
      "\n",
      "원문 : hadiya whose marriage muslim man recently restored kerala high court demanded compensation state government losing two precious years life two freedoms curtailed right live religion believed husband said \n",
      "실제 요약 : hadiya seeks compensation for losing two years of her life \n",
      "1/1 [==============================] - 0s 87ms/step\n",
      "1/1 [==============================] - 0s 19ms/step\n",
      "1/1 [==============================] - 0s 20ms/step\n",
      "1/1 [==============================] - 0s 21ms/step\n",
      "1/1 [==============================] - 0s 19ms/step\n",
      "1/1 [==============================] - 0s 20ms/step\n",
      "1/1 [==============================] - 0s 19ms/step\n",
      "1/1 [==============================] - 0s 19ms/step\n",
      "1/1 [==============================] - 0s 20ms/step\n",
      "1/1 [==============================] - 0s 20ms/step\n",
      "1/1 [==============================] - 0s 21ms/step\n",
      "1/1 [==============================] - 0s 19ms/step\n",
      "1/1 [==============================] - 0s 20ms/step\n",
      "1/1 [==============================] - 0s 20ms/step\n",
      "1/1 [==============================] - 0s 21ms/step\n",
      "1/1 [==============================] - 0s 19ms/step\n",
      "예측 요약 :  do not give up to pay for life of life kerala hc to wife\n",
      "\n",
      "\n",
      "원문 : reality television personality kylie jenner mother kris jenner revealed helped deliver kylie baby really really well kept saying feel pain said kris like really weird delivered baby pulled added \n",
      "실제 요약 : helped deliver kylie baby reveals her mom jenner \n",
      "1/1 [==============================] - 0s 86ms/step\n",
      "1/1 [==============================] - 0s 20ms/step\n",
      "1/1 [==============================] - 0s 19ms/step\n",
      "1/1 [==============================] - 0s 20ms/step\n",
      "1/1 [==============================] - 0s 20ms/step\n",
      "1/1 [==============================] - 0s 20ms/step\n",
      "1/1 [==============================] - 0s 19ms/step\n",
      "1/1 [==============================] - 0s 20ms/step\n",
      "1/1 [==============================] - 0s 20ms/step\n",
      "예측 요약 :  kylie jenner model of kylie kylie jenner\n",
      "\n",
      "\n",
      "원문 : npp bjp alliance staked claim form meghalaya government mlas state congress president vincent sunday said mandate actually given congress pre poll alliance anybody right time campaigning knew bjp npp together added \n",
      "실제 요약 : mandate was actually given to us congress on meghalaya \n",
      "1/1 [==============================] - 0s 86ms/step\n",
      "1/1 [==============================] - 0s 19ms/step\n",
      "1/1 [==============================] - 0s 21ms/step\n",
      "1/1 [==============================] - 0s 19ms/step\n",
      "1/1 [==============================] - 0s 20ms/step\n",
      "1/1 [==============================] - 0s 20ms/step\n",
      "1/1 [==============================] - 0s 20ms/step\n",
      "1/1 [==============================] - 0s 20ms/step\n",
      "1/1 [==============================] - 0s 20ms/step\n",
      "1/1 [==============================] - 0s 20ms/step\n",
      "예측 요약 :  bjp mlas of bjp mlas will join bjp\n",
      "\n",
      "\n",
      "원문 : driver jodhpur received tax notice asking explain transactions worth crore bank account previous year also asked explain lakh deposit done three days demonetisation man said one employers diamond dealer might used documents open account \n",
      "실제 요약 : driver asked to explain bank transactions worth crore \n",
      "1/1 [==============================] - 0s 86ms/step\n",
      "1/1 [==============================] - 0s 20ms/step\n",
      "1/1 [==============================] - 0s 20ms/step\n",
      "1/1 [==============================] - 0s 20ms/step\n",
      "1/1 [==============================] - 0s 19ms/step\n",
      "1/1 [==============================] - 0s 20ms/step\n",
      "1/1 [==============================] - 0s 20ms/step\n",
      "1/1 [==============================] - 0s 20ms/step\n",
      "1/1 [==============================] - 0s 21ms/step\n",
      "예측 요약 :  man notice for filing tax on bitcoin\n",
      "\n",
      "\n",
      "원문 : national green tribunal directed national highways authority india maintain mandatory green cover along national state highways direction reportedly aimed maintaining balance tribunal hearing plea filed ngo sought maintenance mandatory metres green cover sides national highways \n",
      "실제 요약 : highways body directed to maintain green cover along highways \n",
      "1/1 [==============================] - 0s 86ms/step\n",
      "1/1 [==============================] - 0s 20ms/step\n",
      "1/1 [==============================] - 0s 20ms/step\n",
      "1/1 [==============================] - 0s 20ms/step\n",
      "1/1 [==============================] - 0s 19ms/step\n",
      "1/1 [==============================] - 0s 19ms/step\n",
      "1/1 [==============================] - 0s 20ms/step\n",
      "1/1 [==============================] - 0s 20ms/step\n",
      "1/1 [==============================] - 0s 19ms/step\n",
      "예측 요약 :  ngt bans ngt for ngt against ngt\n",
      "\n",
      "\n",
      "원문 : twitter dropped lawsuit us government saying government withdrawn order reveal behind alt account opposed us president donald trump policies twitter said alt claims work government employees account later thanked twitter support announced taking break posting \n",
      "실제 요약 : us govt drops effort to anti trump twitter account \n",
      "1/1 [==============================] - 0s 84ms/step\n",
      "1/1 [==============================] - 0s 19ms/step\n",
      "1/1 [==============================] - 0s 18ms/step\n",
      "1/1 [==============================] - 0s 20ms/step\n",
      "1/1 [==============================] - 0s 19ms/step\n",
      "1/1 [==============================] - 0s 20ms/step\n",
      "1/1 [==============================] - 0s 20ms/step\n",
      "1/1 [==============================] - 0s 20ms/step\n",
      "1/1 [==============================] - 0s 20ms/step\n",
      "예측 요약 :  us media media to be called trump\n",
      "\n",
      "\n",
      "원문 : actor jim carrey late former girlfriend white accused giving newly discovered note wrote two years suicide note read introduced cocaine prostitutes mental abuse disease good things broke person nnn \n",
      "실제 요약 : jim carrey late ex girlfriend accused him of giving \n",
      "1/1 [==============================] - 0s 87ms/step\n",
      "1/1 [==============================] - 0s 20ms/step\n",
      "1/1 [==============================] - 0s 20ms/step\n",
      "1/1 [==============================] - 0s 19ms/step\n",
      "1/1 [==============================] - 0s 20ms/step\n",
      "1/1 [==============================] - 0s 20ms/step\n",
      "1/1 [==============================] - 0s 20ms/step\n",
      "1/1 [==============================] - 0s 21ms/step\n",
      "1/1 [==============================] - 0s 19ms/step\n",
      "1/1 [==============================] - 0s 18ms/step\n",
      "1/1 [==============================] - 0s 19ms/step\n",
      "예측 요약 :  ex playboy model apologises for sexual abuse of dog\n",
      "\n",
      "\n",
      "원문 : indian rounder hardik pandya credited success former captain rahul dravid pandya said dravid immense trust talents stint india team worked wonders dravid used tell hardik one guy talent represent india need take charge situations pandya added \n",
      "실제 요약 : owe my success to rahul dravid hardik pandya \n",
      "1/1 [==============================] - 0s 86ms/step\n",
      "1/1 [==============================] - 0s 20ms/step\n",
      "1/1 [==============================] - 0s 20ms/step\n",
      "1/1 [==============================] - 0s 20ms/step\n",
      "1/1 [==============================] - 0s 20ms/step\n",
      "1/1 [==============================] - 0s 20ms/step\n",
      "1/1 [==============================] - 0s 20ms/step\n",
      "1/1 [==============================] - 0s 19ms/step\n",
      "1/1 [==============================] - 0s 20ms/step\n",
      "1/1 [==============================] - 0s 20ms/step\n",
      "예측 요약 :  hardik pandya kl rahul dravid for the year\n",
      "\n",
      "\n",
      "원문 : west bengal cm mamata banerjee wednesday criticised uttar pradesh bjp government bulandshahr violence alleged state police carried fake encounters fake encounters murdered police officer investigating case added following violence bulandshahr mamata directed west bengal police step vigil near inter state boundary \n",
      "실제 요약 : mamata alleges up police of fake encounters in bulandshahr \n",
      "1/1 [==============================] - 0s 85ms/step\n",
      "1/1 [==============================] - 0s 21ms/step\n",
      "1/1 [==============================] - 0s 23ms/step\n",
      "1/1 [==============================] - 0s 21ms/step\n",
      "1/1 [==============================] - 0s 20ms/step\n",
      "1/1 [==============================] - 0s 20ms/step\n",
      "1/1 [==============================] - 0s 20ms/step\n",
      "1/1 [==============================] - 0s 20ms/step\n",
      "1/1 [==============================] - 0s 19ms/step\n",
      "예측 요약 :  bjp leader calls wb cm mamata violence\n",
      "\n",
      "\n",
      "원문 : militants suspected islamic terrorist group al shabaab beheaded nine civilians overnight assault village kenya according reports slaughtered like chickens using knives said witness notably east african country seen increase attacks claimed al shabaab recent weeks \n",
      "실제 요약 : suspected islamic militants behead civilians in kenya \n",
      "1/1 [==============================] - 0s 86ms/step\n",
      "1/1 [==============================] - 0s 21ms/step\n",
      "1/1 [==============================] - 0s 21ms/step\n",
      "1/1 [==============================] - 0s 21ms/step\n",
      "1/1 [==============================] - 0s 21ms/step\n",
      "1/1 [==============================] - 0s 20ms/step\n",
      "1/1 [==============================] - 0s 21ms/step\n",
      "1/1 [==============================] - 0s 21ms/step\n",
      "1/1 [==============================] - 0s 21ms/step\n",
      "1/1 [==============================] - 0s 21ms/step\n",
      "예측 요약 :  isis claims militants killed in al qaeda militants\n",
      "\n",
      "\n",
      "원문 : trailer disney pixar upcoming animated film released wednesday film directed lee known directing toy story revolves around year old boy named miguel finds stunning colourful land dead scheduled release november us \n",
      "실제 요약 : trailer of disney film released \n",
      "1/1 [==============================] - 0s 108ms/step\n",
      "1/1 [==============================] - 0s 20ms/step\n",
      "1/1 [==============================] - 0s 21ms/step\n",
      "1/1 [==============================] - 0s 21ms/step\n",
      "1/1 [==============================] - 0s 22ms/step\n",
      "1/1 [==============================] - 0s 20ms/step\n",
      "1/1 [==============================] - 0s 21ms/step\n",
      "예측 요약 :  trailer of sidharth starrer released\n",
      "\n",
      "\n",
      "원문 : family jammu kashmir police officer lynched mob srinagar asked azadi fighting family asked state reached kill person outside mosque auspicious night without reason religion taught us \n",
      "실제 요약 : is this the we are fighting for asks lynched cop kin \n",
      "1/1 [==============================] - 0s 84ms/step\n",
      "1/1 [==============================] - 0s 19ms/step\n",
      "1/1 [==============================] - 0s 19ms/step\n",
      "1/1 [==============================] - 0s 20ms/step\n",
      "1/1 [==============================] - 0s 19ms/step\n",
      "1/1 [==============================] - 0s 19ms/step\n",
      "1/1 [==============================] - 0s 20ms/step\n",
      "1/1 [==============================] - 0s 19ms/step\n",
      "1/1 [==============================] - 0s 19ms/step\n",
      "1/1 [==============================] - 0s 20ms/step\n",
      "1/1 [==============================] - 0s 19ms/step\n",
      "1/1 [==============================] - 0s 20ms/step\n",
      "예측 요약 :  mob attack on mob lynching cop who took cop lynching\n",
      "\n",
      "\n",
      "원문 : union minister dharmendra pradhan friday said china friend permanent allies hailing india standing global platform pradhan added india relations world reliability biggest advantage india economic model scope bear world economic burden said \n",
      "실제 요약 : china is not friend union minister \n",
      "1/1 [==============================] - 0s 85ms/step\n",
      "1/1 [==============================] - 0s 19ms/step\n",
      "1/1 [==============================] - 0s 19ms/step\n",
      "1/1 [==============================] - 0s 20ms/step\n",
      "1/1 [==============================] - 0s 20ms/step\n",
      "1/1 [==============================] - 0s 20ms/step\n",
      "1/1 [==============================] - 0s 20ms/step\n",
      "1/1 [==============================] - 0s 22ms/step\n",
      "1/1 [==============================] - 0s 20ms/step\n",
      "1/1 [==============================] - 0s 20ms/step\n",
      "1/1 [==============================] - 0s 20ms/step\n",
      "1/1 [==============================] - 0s 19ms/step\n",
      "1/1 [==============================] - 0s 20ms/step\n",
      "1/1 [==============================] - 0s 19ms/step\n",
      "예측 요약 :  china should be in china if it is not far union minister\n",
      "\n",
      "\n",
      "원문 : reliance group chairman anil ambani said telecom sector stress banks extending credit said telecom sector needed minimum crore year expand maintain quality service added sharp competitive landscape overseas operators left country \n",
      "실제 요약 : telecom sector under stress banks not lending anil ambani \n",
      "1/1 [==============================] - 0s 87ms/step\n",
      "1/1 [==============================] - 0s 19ms/step\n",
      "1/1 [==============================] - 0s 19ms/step\n",
      "1/1 [==============================] - 0s 20ms/step\n",
      "1/1 [==============================] - 0s 19ms/step\n",
      "1/1 [==============================] - 0s 19ms/step\n",
      "1/1 [==============================] - 0s 25ms/step\n",
      "1/1 [==============================] - 0s 20ms/step\n",
      "1/1 [==============================] - 0s 19ms/step\n",
      "1/1 [==============================] - 0s 19ms/step\n",
      "예측 요약 :  telecom sector will be run by anil ambani\n",
      "\n",
      "\n",
      "원문 : brazilian football team pictured breathing oxygen tanks draw bolivia la stadium stands feet altitude stadium banned hosting fifa per policy high altitude football brazilian forward neymar said inhumane play conditions field altitude ball everything bad \n",
      "실제 요약 : brazil players use oxygen masks after match at ft \n",
      "1/1 [==============================] - 0s 85ms/step\n",
      "1/1 [==============================] - 0s 19ms/step\n",
      "1/1 [==============================] - 0s 20ms/step\n",
      "1/1 [==============================] - 0s 20ms/step\n",
      "1/1 [==============================] - 0s 20ms/step\n",
      "1/1 [==============================] - 0s 20ms/step\n",
      "1/1 [==============================] - 0s 21ms/step\n",
      "1/1 [==============================] - 0s 20ms/step\n",
      "1/1 [==============================] - 0s 20ms/step\n",
      "1/1 [==============================] - 0s 20ms/step\n",
      "1/1 [==============================] - 0s 19ms/step\n",
      "1/1 [==============================] - 0s 20ms/step\n",
      "예측 요약 :  football match to be held for football fans in mexico\n",
      "\n",
      "\n",
      "원문 : right privacy verdict bearing upon requirement tax link pan aadhaar month end uidai ceo ajay bhushan pandey said friday linking pan aadhaar mandated amendment income tax act linking continue act law change said pandey \n",
      "실제 요약 : right to privacy to not affect aadhaar pan linkage uidai \n",
      "1/1 [==============================] - 0s 86ms/step\n",
      "1/1 [==============================] - 0s 19ms/step\n",
      "1/1 [==============================] - 0s 19ms/step\n",
      "1/1 [==============================] - 0s 20ms/step\n",
      "1/1 [==============================] - 0s 19ms/step\n",
      "1/1 [==============================] - 0s 19ms/step\n",
      "1/1 [==============================] - 0s 20ms/step\n",
      "1/1 [==============================] - 0s 20ms/step\n",
      "1/1 [==============================] - 0s 21ms/step\n",
      "1/1 [==============================] - 0s 19ms/step\n",
      "1/1 [==============================] - 0s 19ms/step\n",
      "1/1 [==============================] - 0s 19ms/step\n",
      "예측 요약 :  aadhaar must be allowed to be mandatory for july uidai\n",
      "\n",
      "\n",
      "원문 : swara bhasker talking work choice films said actors die going leave behind body work really want embarrassed grave even struggling never done work want done something money added \n",
      "실제 요약 : do not want to be embarrassed in grave about work do swara \n",
      "1/1 [==============================] - 0s 86ms/step\n",
      "1/1 [==============================] - 0s 19ms/step\n",
      "1/1 [==============================] - 0s 20ms/step\n",
      "1/1 [==============================] - 0s 20ms/step\n",
      "1/1 [==============================] - 0s 20ms/step\n",
      "1/1 [==============================] - 0s 20ms/step\n",
      "1/1 [==============================] - 0s 20ms/step\n",
      "1/1 [==============================] - 0s 23ms/step\n",
      "1/1 [==============================] - 0s 20ms/step\n",
      "1/1 [==============================] - 0s 20ms/step\n",
      "1/1 [==============================] - 0s 19ms/step\n",
      "1/1 [==============================] - 0s 19ms/step\n",
      "1/1 [==============================] - 0s 20ms/step\n",
      "예측 요약 :  do not want to get pressure to work with wood swara\n",
      "\n",
      "\n",
      "원문 : dismissing petition seeking guidelines abolish country supreme court bench remarked ask us things god gods adding court could direct authorities abolish said cannot go everybody house say mosquito remove \n",
      "실제 요약 : we are not gods replies sc to abolish mosquito plea \n",
      "1/1 [==============================] - 0s 85ms/step\n",
      "1/1 [==============================] - 0s 19ms/step\n",
      "1/1 [==============================] - 0s 20ms/step\n",
      "1/1 [==============================] - 0s 20ms/step\n",
      "1/1 [==============================] - 0s 19ms/step\n",
      "1/1 [==============================] - 0s 20ms/step\n",
      "1/1 [==============================] - 0s 20ms/step\n",
      "1/1 [==============================] - 0s 20ms/step\n",
      "1/1 [==============================] - 0s 20ms/step\n",
      "1/1 [==============================] - 0s 19ms/step\n",
      "1/1 [==============================] - 0s 19ms/step\n",
      "1/1 [==============================] - 0s 19ms/step\n",
      "1/1 [==============================] - 0s 20ms/step\n",
      "1/1 [==============================] - 0s 19ms/step\n",
      "예측 요약 :  cannot be allowed to be right to be right to privacy sc\n",
      "\n",
      "\n",
      "원문 : indian female shweta rathore registered case police alleging pictures misused social media platforms shweta claimed unidentified instagram account posted pictures taken various events attract followers one deserves bullied fake information could lives shweta wrote instagram \n",
      "실제 요약 : female claims pics being misused on social media \n",
      "1/1 [==============================] - 0s 86ms/step\n",
      "1/1 [==============================] - 0s 20ms/step\n",
      "1/1 [==============================] - 0s 21ms/step\n",
      "1/1 [==============================] - 0s 19ms/step\n",
      "1/1 [==============================] - 0s 20ms/step\n",
      "1/1 [==============================] - 0s 20ms/step\n",
      "1/1 [==============================] - 0s 19ms/step\n",
      "1/1 [==============================] - 0s 19ms/step\n",
      "1/1 [==============================] - 0s 20ms/step\n",
      "1/1 [==============================] - 0s 22ms/step\n",
      "예측 요약 :  indian origin woman accuses fake sharing of harassment\n",
      "\n",
      "\n",
      "원문 : girls rescued deoria shelter home uttar pradesh minister rita bahuguna joshi said cbi ordered shut last year inspection revealed running illegally added order followed deoria district magistrate kumar removed high level probe initiated case bahuguna said \n",
      "실제 요약 : up shelter home was ordered to shut in ran illegally \n",
      "1/1 [==============================] - 0s 86ms/step\n",
      "1/1 [==============================] - 0s 20ms/step\n",
      "1/1 [==============================] - 0s 20ms/step\n",
      "1/1 [==============================] - 0s 20ms/step\n",
      "1/1 [==============================] - 0s 20ms/step\n",
      "1/1 [==============================] - 0s 20ms/step\n",
      "1/1 [==============================] - 0s 20ms/step\n",
      "1/1 [==============================] - 0s 19ms/step\n",
      "1/1 [==============================] - 0s 21ms/step\n",
      "1/1 [==============================] - 0s 20ms/step\n",
      "예측 요약 :  up govt officials suspended for shelter home rapes\n",
      "\n",
      "\n"
     ]
    }
   ],
   "source": [
    "for i in range(50, 100):\n",
    "    print(\"원문 :\", seq2text(encoder_input_test[i]))\n",
    "    print(\"실제 요약 :\", seq2summary(decoder_input_test[i]))\n",
    "    print(\"예측 요약 :\", decode_sequence(encoder_input_test[i].reshape(1, text_max_len)))\n",
    "    print(\"\\n\")"
   ]
  },
  {
   "cell_type": "code",
   "execution_count": 39,
   "id": "e1db9469-58b6-4932-94e0-8ecd75123d1e",
   "metadata": {},
   "outputs": [],
   "source": [
    "import requests\n",
    "from summa.summarizer import summarize"
   ]
  },
  {
   "cell_type": "code",
   "execution_count": 40,
   "id": "74253a49-d232-4ae8-8731-a0bb5f10c647",
   "metadata": {},
   "outputs": [],
   "source": [
    "text = requests.get('http://rare-technologies.com/the_matrix_synopsis.txt').text"
   ]
  },
  {
   "cell_type": "code",
   "execution_count": 41,
   "id": "bad10591-d38d-40ad-beb9-edb254ef25dd",
   "metadata": {},
   "outputs": [
    {
     "name": "stdout",
     "output_type": "stream",
     "text": [
      "The screen is filled with green, cascading code which gives way to the title, The Matrix.\n",
      "\n",
      "A phone rings and text appears on the screen: \"Call trans opt: received. 2-19-98 13:24:18 REC: Log>\" As a conversation takes place between Trinity (Carrie-Anne Moss) and Cypher (Joe Pantoliano), two free humans, a table of random green numbers are being scanned and individual numbers selected, creating a series of digits not unlike an ordinary phone number, as if a code is being deciphered or a call is being traced.\n",
      "\n",
      "Trinity discusses some unknown person. Cypher taunts Trinity, suggesting she enjoys watching him. Trinity counters that \"Morpheus (Laurence Fishburne) says he may be 'the One',\" just as the sound of a number being selected alerts Trinity that someone may be tracing their call. She ends the call.\n",
      "\n",
      "Armed policemen move down a darkened, decrepit hallway in the Heart O' the City Hotel, their flashlight beam bouncing just ahead of them. They come to room 303, kick down the door and find a woman dressed in black, facing away from them. It's Trinity. She brings her hands up from the laptop she's working on at their command.\n",
      "\n",
      "Outside the hotel a car drives up and three agents appear in neatly pressed black suits. They are Agent Smith (Hugo Weaving), Agent Brown (Paul Goddard), and Agent Jones (Robert Taylor). Agent Smith and the presiding police lieutenant argue. Agent Smith admonishes the policeman that they were given specific orders to contact the agents first, for their\n"
     ]
    }
   ],
   "source": [
    "print(text[:1500])"
   ]
  },
  {
   "cell_type": "code",
   "execution_count": 42,
   "id": "a6985541-cd6b-4254-b8cd-31ec96260108",
   "metadata": {},
   "outputs": [
    {
     "name": "stdout",
     "output_type": "stream",
     "text": [
      "Summary:\n",
      "Morpheus, Trinity, Neo, Apoc, Switch, Mouse and Cypher are jacked into the Matrix.\n",
      "Trinity brings the helicopter down to the floor that Morpheus is on and Neo opens fire on the three Agents.\n"
     ]
    }
   ],
   "source": [
    "print('Summary:')\n",
    "print(summarize(text, ratio=0.005))"
   ]
  },
  {
   "cell_type": "code",
   "execution_count": 43,
   "id": "ced92aaa-10bd-4131-acc5-393f7a7aa07f",
   "metadata": {},
   "outputs": [
    {
     "name": "stdout",
     "output_type": "stream",
     "text": [
      "Summary:\n",
      "['Morpheus, Trinity, Neo, Apoc, Switch, Mouse and Cypher are jacked into the Matrix.', 'Trinity brings the helicopter down to the floor that Morpheus is on and Neo opens fire on the three Agents.']\n"
     ]
    }
   ],
   "source": [
    "print('Summary:')\n",
    "print(summarize(text, ratio=0.005, split=True))"
   ]
  },
  {
   "cell_type": "code",
   "execution_count": 44,
   "id": "d4cbcec7-7110-4fd7-ae4b-f059982fdefd",
   "metadata": {},
   "outputs": [
    {
     "name": "stdout",
     "output_type": "stream",
     "text": [
      "Summary:\n",
      "Trinity takes Neo to Morpheus.\n",
      "Morpheus, Trinity, Neo, Apoc, Switch, Mouse and Cypher are jacked into the Matrix.\n",
      "Trinity brings the helicopter down to the floor that Morpheus is on and Neo opens fire on the three Agents.\n"
     ]
    }
   ],
   "source": [
    "print('Summary:')\n",
    "print(summarize(text, words=50))"
   ]
  },
  {
   "cell_type": "code",
   "execution_count": 45,
   "id": "4e4ae83b-0a56-4a42-bfa9-3be52c0e6728",
   "metadata": {},
   "outputs": [
    {
     "name": "stdout",
     "output_type": "stream",
     "text": [
      "1/1 [==============================] - 0s 112ms/step\n",
      "1/1 [==============================] - 0s 20ms/step\n",
      "1/1 [==============================] - 0s 21ms/step\n",
      "1/1 [==============================] - 0s 20ms/step\n",
      "1/1 [==============================] - 0s 21ms/step\n",
      "1/1 [==============================] - 0s 21ms/step\n",
      "1/1 [==============================] - 0s 21ms/step\n",
      "1/1 [==============================] - 0s 20ms/step\n",
      "1/1 [==============================] - 0s 20ms/step\n",
      "1/1 [==============================] - 0s 21ms/step\n",
      "1/1 [==============================] - 0s 20ms/step\n",
      "1/1 [==============================] - 0s 21ms/step\n",
      "1/1 [==============================] - 0s 23ms/step\n"
     ]
    }
   ],
   "source": [
    "data = {\n",
    "    'original_text_a': [seq2text(encoder_input_test[0])],\n",
    "    'abstractive_summary': [decode_sequence(encoder_input_test[0].reshape(1, text_max_len))],\n",
    "    'original_text_b': [text[:1500]],\n",
    "    'extractive_summary': [summarize(text, words=30)],\n",
    "}\n",
    "\n",
    "df_metric = pd.DataFrame(data)"
   ]
  },
  {
   "cell_type": "code",
   "execution_count": 46,
   "id": "b135d423-f6a8-45af-892d-18d42ff27f59",
   "metadata": {},
   "outputs": [
    {
     "data": {
      "text/html": [
       "<div>\n",
       "<style scoped>\n",
       "    .dataframe tbody tr th:only-of-type {\n",
       "        vertical-align: middle;\n",
       "    }\n",
       "\n",
       "    .dataframe tbody tr th {\n",
       "        vertical-align: top;\n",
       "    }\n",
       "\n",
       "    .dataframe thead th {\n",
       "        text-align: right;\n",
       "    }\n",
       "</style>\n",
       "<table border=\"1\" class=\"dataframe\">\n",
       "  <thead>\n",
       "    <tr style=\"text-align: right;\">\n",
       "      <th></th>\n",
       "      <th>original_text_a</th>\n",
       "      <th>abstractive_summary</th>\n",
       "      <th>original_text_b</th>\n",
       "      <th>extractive_summary</th>\n",
       "    </tr>\n",
       "  </thead>\n",
       "  <tbody>\n",
       "    <tr>\n",
       "      <th>0</th>\n",
       "      <td>year old girl killed eight others hospitalised...</td>\n",
       "      <td>year old girl dies after being beaten by men ...</td>\n",
       "      <td>The screen is filled with green, cascading cod...</td>\n",
       "      <td>Morpheus, Trinity, Neo, Apoc, Switch, Mouse an...</td>\n",
       "    </tr>\n",
       "  </tbody>\n",
       "</table>\n",
       "</div>"
      ],
      "text/plain": [
       "                                     original_text_a  \\\n",
       "0  year old girl killed eight others hospitalised...   \n",
       "\n",
       "                                 abstractive_summary  \\\n",
       "0   year old girl dies after being beaten by men ...   \n",
       "\n",
       "                                     original_text_b  \\\n",
       "0  The screen is filled with green, cascading cod...   \n",
       "\n",
       "                                  extractive_summary  \n",
       "0  Morpheus, Trinity, Neo, Apoc, Switch, Mouse an...  "
      ]
     },
     "execution_count": 46,
     "metadata": {},
     "output_type": "execute_result"
    }
   ],
   "source": [
    "df_metric"
   ]
  },
  {
   "cell_type": "code",
   "execution_count": 49,
   "id": "326e13cd-c43e-4e10-a80e-7e6d04ac3b7f",
   "metadata": {},
   "outputs": [
    {
     "data": {
      "text/html": [
       "<div>\n",
       "<style scoped>\n",
       "    .dataframe tbody tr th:only-of-type {\n",
       "        vertical-align: middle;\n",
       "    }\n",
       "\n",
       "    .dataframe tbody tr th {\n",
       "        vertical-align: top;\n",
       "    }\n",
       "\n",
       "    .dataframe thead th {\n",
       "        text-align: right;\n",
       "    }\n",
       "</style>\n",
       "<table border=\"1\" class=\"dataframe\">\n",
       "  <thead>\n",
       "    <tr style=\"text-align: right;\">\n",
       "      <th></th>\n",
       "      <th>Abstractive Keyword Count</th>\n",
       "      <th>Extractive Keyword Count</th>\n",
       "    </tr>\n",
       "  </thead>\n",
       "  <tbody>\n",
       "    <tr>\n",
       "      <th>0</th>\n",
       "      <td>11</td>\n",
       "      <td>33</td>\n",
       "    </tr>\n",
       "  </tbody>\n",
       "</table>\n",
       "</div>"
      ],
      "text/plain": [
       "   Abstractive Keyword Count  Extractive Keyword Count\n",
       "0                         11                        33"
      ]
     },
     "execution_count": 49,
     "metadata": {},
     "output_type": "execute_result"
    }
   ],
   "source": [
    "# 핵심 키워드 수 구하는 함수\n",
    "def keyword_analysis(text, summary):\n",
    "    return len(summary.split())\n",
    "\n",
    "# 데이터프레임에 적용\n",
    "df_metric['Abstractive Keyword Count'] = df_metric.apply(lambda x: keyword_analysis(x['original_text_a'], x['abstractive_summary']), axis=1)\n",
    "df_metric['Extractive Keyword Count'] = df_metric.apply(lambda x: keyword_analysis(x['original_text_b'], x['extractive_summary']), axis=1)\n",
    "\n",
    "# 추상적, 추출적 키워드 count 보기\n",
    "df_metric.iloc[:, -2:]"
   ]
  },
  {
   "cell_type": "markdown",
   "id": "24087220-c178-47dd-86c5-0c35740f19d6",
   "metadata": {},
   "source": [
    "## 회고\n",
    "- 학습시간이 오래걸려 문법까지 분석하기에는 조금 어려웠다.\n",
    "- 비교 결과 추출적 요약이 원본에서 keyword를 더 많이 추출했다.\n",
    "- seq2seq 까지는 대략적으론 이해했으나 attention 메커니즘은 이해가 부족하여 공부를 더 해야 할 것 같다."
   ]
  },
  {
   "cell_type": "code",
   "execution_count": null,
   "id": "ae14e000-2a9e-427e-ae9f-130547c56e79",
   "metadata": {},
   "outputs": [],
   "source": []
  }
 ],
 "metadata": {
  "kernelspec": {
   "display_name": "Python 3 (ipykernel)",
   "language": "python",
   "name": "python3"
  },
  "language_info": {
   "codemirror_mode": {
    "name": "ipython",
    "version": 3
   },
   "file_extension": ".py",
   "mimetype": "text/x-python",
   "name": "python",
   "nbconvert_exporter": "python",
   "pygments_lexer": "ipython3",
   "version": "3.10.0"
  }
 },
 "nbformat": 4,
 "nbformat_minor": 5
}
