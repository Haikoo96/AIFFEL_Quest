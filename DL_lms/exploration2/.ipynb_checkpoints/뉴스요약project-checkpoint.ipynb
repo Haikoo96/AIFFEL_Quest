{
 "cells": [
  {
   "cell_type": "markdown",
   "id": "4ca7560d-9a5f-4b4d-a30e-5a280d19008a",
   "metadata": {},
   "source": [
    "## 뉴스요약 챗봇\n",
    "-------------------------------------\n",
    "\n",
    "## 들어가기 전 참고사항\n",
    "-------------------------------------\n",
    "1. 전처리only.ipynb 파일에서 전처리 후 csv 파일을 저장\n",
    "2. csv 파일을 불러와서 진행할 것\n",
    "\n",
    "## 전처리 코드\n",
    "------------------------------------\n",
    "<img src=\"https://drive.google.com/file/d/1Vgv4dzRF5FkfKdfkKfshJHTg4qdvvyXU/view?usp=drive_link\" width=\"450px\" height=\"300px\" title=\"전처리 코드\"></img>\n",
    "<img src=\"https://drive.google.com/file/d/1G4DZeBMRlws_7vecayncuHFJ4qdJM4mL/view?usp=drive_link\" width=\"450px\" height=\"300px\" title=\"전처리 데이터 csv 저장\"></img>"
   ]
  },
  {
   "cell_type": "code",
   "execution_count": null,
   "id": "125c6e6f-2cf8-48a8-b647-2a7fa11a1864",
   "metadata": {},
   "outputs": [],
   "source": []
  }
 ],
 "metadata": {
  "kernelspec": {
   "display_name": "Python 3 (ipykernel)",
   "language": "python",
   "name": "python3"
  },
  "language_info": {
   "codemirror_mode": {
    "name": "ipython",
    "version": 3
   },
   "file_extension": ".py",
   "mimetype": "text/x-python",
   "name": "python",
   "nbconvert_exporter": "python",
   "pygments_lexer": "ipython3",
   "version": "3.10.0"
  }
 },
 "nbformat": 4,
 "nbformat_minor": 5
}
