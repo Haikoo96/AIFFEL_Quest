{
 "cells": [
  {
   "cell_type": "code",
   "execution_count": 1,
   "id": "2042a7d4-d8a8-4153-935c-f8d2fb1ad101",
   "metadata": {},
   "outputs": [],
   "source": [
    "import tensorflow as tf\n",
    "import keras\n",
    "import keras_tuner as kt\n",
    "import sklearn\n",
    "from sklearn.model_selection import train_test_split\n",
    "import os"
   ]
  },
  {
   "cell_type": "code",
   "execution_count": 2,
   "id": "ce6bad9c-7e05-4309-9fe8-28069cb21753",
   "metadata": {},
   "outputs": [],
   "source": [
    "# cwd = os.getcwd()\n",
    "# os.mkdir(os.path.join(cwd, 'mlops'))"
   ]
  },
  {
   "cell_type": "code",
   "execution_count": 3,
   "id": "fd2cfae7-3582-4770-8869-79d102c1c525",
   "metadata": {},
   "outputs": [],
   "source": [
    "(x_train, y_train), (x_test, y_test) = keras.datasets.mnist.load_data()"
   ]
  },
  {
   "cell_type": "code",
   "execution_count": 4,
   "id": "12a1d7e3-59a3-4b94-9046-21fe918d2ff6",
   "metadata": {},
   "outputs": [],
   "source": [
    "X_train = x_train.reshape(-1,28, 28, 1) \n",
    "X_test = x_test.reshape(-1,28,28,1)\n",
    "y_train = tf.keras.utils.to_categorical(y_train)\n",
    "y_test = tf.keras.utils.to_categorical(y_test)"
   ]
  },
  {
   "cell_type": "code",
   "execution_count": 5,
   "id": "60e3f0d2-4bbd-4617-9fec-a4f97fd1b736",
   "metadata": {},
   "outputs": [
    {
     "name": "stdout",
     "output_type": "stream",
     "text": [
      "(48000, 28, 28, 1)\n"
     ]
    }
   ],
   "source": [
    "X_train, X_val, y_train, y_val = train_test_split(X_train, y_train, test_size = 0.2)\n",
    "print(X_train.shape)"
   ]
  },
  {
   "cell_type": "code",
   "execution_count": 6,
   "id": "1b9fe0ab-313e-488a-8c2b-849150726774",
   "metadata": {},
   "outputs": [],
   "source": [
    "class DeepTuner(kt.Tuner):\n",
    "    def run_trial(self, trial, X, y, validation_data, **fit_kwargs):\n",
    "        model = self.hypermodel.build(trial.hyperparameters)\n",
    "        model.fit(X, y, batch_size=trial.hyperparameters.Choice(\n",
    "            'batch_size', [16, 32]), **fit_kwargs)\n",
    "\n",
    "\n",
    "        X_val, y_val = validation_data\n",
    "        eval_scores = model.evaluate(X_val, y_val)\n",
    "        return {name: value for name, value in zip(\n",
    "            model.metrics_names,\n",
    "            eval_scores)}"
   ]
  },
  {
   "cell_type": "code",
   "execution_count": 7,
   "id": "16b129ad-7ae9-4b6b-a8fc-b8f6971b3d56",
   "metadata": {},
   "outputs": [],
   "source": [
    "def build_model(hp):\n",
    "    model = tf.keras.Sequential()\n",
    "    model.add(tf.keras.Input(shape = X_train.shape[1:], name = 'inputs'))\n",
    "    for i in range(hp.Int('num_layers', min_value=1, max_value=10)):\n",
    "              model.add(tf.keras.layers.Conv2D(hp.Int(\n",
    "                  'units_{i}'.format(i=i), min_value=32, max_value=128, step=5), (3,3),activation='relu'))\n",
    "    model.add(tf.keras.layers.Flatten())\n",
    "    for i in range(hp.Int('n_connections', 1, 3)):\n",
    "        model.add(tf.keras.layers.Dense(hp.Choice(f'n_nodes',\n",
    "                                  values=[32,64,128, 256]), activation = 'relu'))\n",
    "    model.add(tf.keras.layers.Dense(10, activation='softmax', name = 'outputs'))\n",
    "    model.compile(optimizer = 'adam',loss='categorical_crossentropy',\n",
    "        metrics=['accuracy'])\n",
    "    return model"
   ]
  },
  {
   "cell_type": "code",
   "execution_count": 8,
   "id": "636ac216-8cac-4033-a254-22a6727f600d",
   "metadata": {},
   "outputs": [
    {
     "name": "stdout",
     "output_type": "stream",
     "text": [
      "Trial 10 Complete [00h 00m 48s]\n",
      "accuracy: 0.9835000038146973\n",
      "\n",
      "Best accuracy So Far: 0.9850000143051147\n",
      "Total elapsed time: 00h 08m 07s\n"
     ]
    }
   ],
   "source": [
    "my_keras_tuner = DeepTuner(\n",
    "    oracle=kt.oracles.BayesianOptimizationOracle(\n",
    "        objective=kt.Objective('accuracy', 'max'),\n",
    "        max_trials=10,\n",
    "        seed=42),\n",
    "    hypermodel=build_model,\n",
    "    overwrite=True,\n",
    "    project_name='my_keras_tuner')\n",
    "\n",
    "# 해당 모델 학습시간은 약 10분정도 걸립니다!\n",
    "my_keras_tuner.search(\n",
    "    X_train, y_train, validation_data=(X_val, y_val), epochs=3)"
   ]
  },
  {
   "cell_type": "code",
   "execution_count": 9,
   "id": "5e4a05e9-b156-443e-b04a-1eb08bbb8764",
   "metadata": {},
   "outputs": [
    {
     "name": "stdout",
     "output_type": "stream",
     "text": [
      "Model: \"sequential_11\"\n",
      "_________________________________________________________________\n",
      " Layer (type)                Output Shape              Param #   \n",
      "=================================================================\n",
      " conv2d_65 (Conv2D)          (None, 26, 26, 32)        320       \n",
      "                                                                 \n",
      " conv2d_66 (Conv2D)          (None, 24, 24, 32)        9248      \n",
      "                                                                 \n",
      " conv2d_67 (Conv2D)          (None, 22, 22, 32)        9248      \n",
      "                                                                 \n",
      " conv2d_68 (Conv2D)          (None, 20, 20, 32)        9248      \n",
      "                                                                 \n",
      " conv2d_69 (Conv2D)          (None, 18, 18, 32)        9248      \n",
      "                                                                 \n",
      " conv2d_70 (Conv2D)          (None, 16, 16, 32)        9248      \n",
      "                                                                 \n",
      " conv2d_71 (Conv2D)          (None, 14, 14, 32)        9248      \n",
      "                                                                 \n",
      " flatten_11 (Flatten)        (None, 6272)              0         \n",
      "                                                                 \n",
      " dense_16 (Dense)            (None, 64)                401472    \n",
      "                                                                 \n",
      " dense_17 (Dense)            (None, 64)                4160      \n",
      "                                                                 \n",
      " outputs (Dense)             (None, 10)                650       \n",
      "                                                                 \n",
      "=================================================================\n",
      "Total params: 462,090\n",
      "Trainable params: 462,090\n",
      "Non-trainable params: 0\n",
      "_________________________________________________________________\n"
     ]
    }
   ],
   "source": [
    "best_hps = my_keras_tuner.get_best_hyperparameters(num_trials=10)[0]\n",
    "model = build_model(best_hps)\n",
    "model.summary()"
   ]
  },
  {
   "cell_type": "code",
   "execution_count": 10,
   "id": "7a2c5f84-0258-4828-8af3-46d83d4938f2",
   "metadata": {},
   "outputs": [
    {
     "name": "stdout",
     "output_type": "stream",
     "text": [
      "Epoch 1/5\n",
      "1500/1500 [==============================] - 9s 6ms/step - loss: 0.1780 - accuracy: 0.9450\n",
      "Epoch 2/5\n",
      "1500/1500 [==============================] - 9s 6ms/step - loss: 0.0669 - accuracy: 0.9807\n",
      "Epoch 3/5\n",
      "1500/1500 [==============================] - 9s 6ms/step - loss: 0.0528 - accuracy: 0.9831\n",
      "Epoch 4/5\n",
      "1500/1500 [==============================] - 9s 6ms/step - loss: 0.0390 - accuracy: 0.9885\n",
      "Epoch 5/5\n",
      "1500/1500 [==============================] - 9s 6ms/step - loss: 0.0328 - accuracy: 0.9901\n"
     ]
    },
    {
     "data": {
      "text/plain": [
       "<keras.callbacks.History at 0x21547b6e590>"
      ]
     },
     "execution_count": 10,
     "metadata": {},
     "output_type": "execute_result"
    }
   ],
   "source": [
    "model.fit(X_train, y_train, batch_size=32, epochs = 5)"
   ]
  },
  {
   "cell_type": "code",
   "execution_count": 11,
   "id": "93592989-6aef-4327-b14e-02ebd30f0fbb",
   "metadata": {},
   "outputs": [
    {
     "name": "stdout",
     "output_type": "stream",
     "text": [
      "313/313 [==============================] - 1s 3ms/step - loss: 0.0540 - accuracy: 0.9845\n"
     ]
    },
    {
     "data": {
      "text/plain": [
       "[0.053998615592718124, 0.984499990940094]"
      ]
     },
     "execution_count": 11,
     "metadata": {},
     "output_type": "execute_result"
    }
   ],
   "source": [
    "model.evaluate(X_test, y_test)"
   ]
  },
  {
   "cell_type": "code",
   "execution_count": 12,
   "id": "0650edca-c575-4d3f-82af-d207350e1b2e",
   "metadata": {},
   "outputs": [
    {
     "name": "stderr",
     "output_type": "stream",
     "text": [
      "WARNING:absl:Found untraced functions such as _jit_compiled_convolution_op, _jit_compiled_convolution_op, _jit_compiled_convolution_op, _jit_compiled_convolution_op, _jit_compiled_convolution_op while saving (showing 5 of 7). These functions will not be directly callable after loading.\n"
     ]
    },
    {
     "name": "stdout",
     "output_type": "stream",
     "text": [
      "INFO:tensorflow:Assets written to: C:\\Users\\박해극\\Aiffel\\aiffel_quest_re\\DL_lms\\exploration6\\mlops\\best_model\\1\\model\\assets\n"
     ]
    },
    {
     "name": "stderr",
     "output_type": "stream",
     "text": [
      "INFO:tensorflow:Assets written to: C:\\Users\\박해극\\Aiffel\\aiffel_quest_re\\DL_lms\\exploration6\\mlops\\best_model\\1\\model\\assets\n"
     ]
    }
   ],
   "source": [
    "cwd = os.getcwd()\n",
    "folder_path = os.path.join(cwd, 'mlops')\n",
    "# os.mkdir(os.path.join(folder_path, 'best_model'))\n",
    "folder_path_s = os.path.join(folder_path, 'best_model')\n",
    "# os.mkdir(os.path.join(folder_path_s, '1'))\n",
    "save_path = os.path.join(folder_path_s, '1')\n",
    "fname = os.path.join(save_path, 'model')\n",
    "model.save(fname)"
   ]
  },
  {
   "cell_type": "code",
   "execution_count": 13,
   "id": "34795526-ac94-4857-843a-22c116ec0d2b",
   "metadata": {},
   "outputs": [
    {
     "name": "stdout",
     "output_type": "stream",
     "text": [
      "Using default tag: latest\n"
     ]
    },
    {
     "name": "stderr",
     "output_type": "stream",
     "text": [
      "error during connect: this error may indicate that the docker daemon is not running: Post \"http://%2F%2F.%2Fpipe%2Fdocker_engine/v1.24/images/create?fromImage=tensorflow%2Fserving&tag=latest\": open //./pipe/docker_engine: The system cannot find the file specified.\n"
     ]
    }
   ],
   "source": [
    "!docker pull tensorflow/serving"
   ]
  },
  {
   "cell_type": "code",
   "execution_count": 15,
   "id": "17afff4b-81b5-476d-b0da-3f69a49842b1",
   "metadata": {},
   "outputs": [
    {
     "name": "stderr",
     "output_type": "stream",
     "text": [
      "invalid argument \"type=bind,\" for \"--mount\" flag: invalid field '' must be a key=value pair\n",
      "See 'docker run --help'.\n"
     ]
    }
   ],
   "source": [
    "!docker run -p 8500:8500 \\\n",
    "\t\t\t-p 8501:8501 \\\n",
    "\t\t\t--mount type=bind, source=/tmp/models, target=/models/my_model -e MODEL_NAME=saved_model.pb \\\n",
    "\t\t\t-e MODEL_BASE_PATH=/Aiffel/aiffel_quest_re/DL_lms/exploration6/mlops/best_model/1/model/saved_model.pb \\\n",
    "\t\t\t-t tensorflow/serving"
   ]
  },
  {
   "cell_type": "code",
   "execution_count": null,
   "id": "c7c706b0-4e0d-4824-9ff7-2e1d4ba2c87b",
   "metadata": {},
   "outputs": [],
   "source": []
  }
 ],
 "metadata": {
  "kernelspec": {
   "display_name": "Python 3 (ipykernel)",
   "language": "python",
   "name": "python3"
  },
  "language_info": {
   "codemirror_mode": {
    "name": "ipython",
    "version": 3
   },
   "file_extension": ".py",
   "mimetype": "text/x-python",
   "name": "python",
   "nbconvert_exporter": "python",
   "pygments_lexer": "ipython3",
   "version": "3.10.11"
  }
 },
 "nbformat": 4,
 "nbformat_minor": 5
}
